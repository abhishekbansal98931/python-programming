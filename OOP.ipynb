{
 "cells": [
  {
   "cell_type": "markdown",
   "metadata": {},
   "source": [
    "# Topics covered\n",
    "Link1: https://realpython.com/python3-object-oriented-programming/\n",
    "\n",
    "Link2: https://www.educative.io/blog/how-to-use-oop-in-python"
   ]
  },
  {
   "cell_type": "markdown",
   "metadata": {},
   "source": [
    "# OOPS from Link 1"
   ]
  },
  {
   "cell_type": "code",
   "execution_count": 1,
   "metadata": {},
   "outputs": [],
   "source": [
    "#Class is a sort of blueprint for an object\n",
    "#Instantiate an object from a class\n",
    "#Use attributes and methods to define the properties and behaviors of an object\n",
    "#Use inheritance to create child classes from a parent class\n",
    "#Reference a method on a parent class using super()\n",
    "#Check the parent class using type(object)\n",
    "#Check if an object inherits from another class using isinstance()"
   ]
  },
  {
   "cell_type": "code",
   "execution_count": null,
   "metadata": {},
   "outputs": [],
   "source": [
    "class Dog:\n",
    "    pass"
   ]
  },
  {
   "cell_type": "code",
   "execution_count": 2,
   "metadata": {},
   "outputs": [
    {
     "data": {
      "text/plain": [
       "False"
      ]
     },
     "execution_count": 2,
     "metadata": {},
     "output_type": "execute_result"
    }
   ],
   "source": [
    "a = Dog()\n",
    "b = Dog()\n",
    "a==b"
   ]
  },
  {
   "cell_type": "code",
   "execution_count": 3,
   "metadata": {},
   "outputs": [
    {
     "data": {
      "text/plain": [
       "<__main__.Dog at 0x22ecdf48048>"
      ]
     },
     "execution_count": 3,
     "metadata": {},
     "output_type": "execute_result"
    }
   ],
   "source": [
    "a"
   ]
  },
  {
   "cell_type": "code",
   "execution_count": 24,
   "metadata": {},
   "outputs": [],
   "source": [
    "#Parent class\n",
    "class Dog:\n",
    "    species = \"Canis\"  #class attributes\n",
    "    \n",
    "    def __init__(self, name, age): #instance attributes\n",
    "        self.name = name\n",
    "        self.age = age\n",
    "    \n",
    "    #Instance method\n",
    "    def description(self):\n",
    "        return f\"{self.name} is {self.age} years old\"\n",
    "    \n",
    "    #Another Instance method\n",
    "    def speak(self, sound):\n",
    "        return f\"{self.name} says {sound}\"\n",
    "    \n",
    "    def __repr__(self):\n",
    "        return f\"{self.name} is {self.age} years old\"\n",
    "    \n",
    "#Child classes\n",
    "class Bulldog(Dog):\n",
    "    pass"
   ]
  },
  {
   "cell_type": "code",
   "execution_count": 21,
   "metadata": {},
   "outputs": [],
   "source": [
    "a = Dog(\"abc\",21)"
   ]
  },
  {
   "cell_type": "code",
   "execution_count": 22,
   "metadata": {},
   "outputs": [
    {
     "data": {
      "text/plain": [
       "abc is 21 years old"
      ]
     },
     "execution_count": 22,
     "metadata": {},
     "output_type": "execute_result"
    }
   ],
   "source": [
    "a"
   ]
  },
  {
   "cell_type": "code",
   "execution_count": 5,
   "metadata": {},
   "outputs": [
    {
     "data": {
      "text/plain": [
       "'abc'"
      ]
     },
     "execution_count": 5,
     "metadata": {},
     "output_type": "execute_result"
    }
   ],
   "source": [
    "a.name"
   ]
  },
  {
   "cell_type": "code",
   "execution_count": 6,
   "metadata": {},
   "outputs": [
    {
     "data": {
      "text/plain": [
       "21"
      ]
     },
     "execution_count": 6,
     "metadata": {},
     "output_type": "execute_result"
    }
   ],
   "source": [
    "a.age"
   ]
  },
  {
   "cell_type": "code",
   "execution_count": 7,
   "metadata": {},
   "outputs": [
    {
     "data": {
      "text/plain": [
       "'Canis'"
      ]
     },
     "execution_count": 7,
     "metadata": {},
     "output_type": "execute_result"
    }
   ],
   "source": [
    "a.species"
   ]
  },
  {
   "cell_type": "code",
   "execution_count": 12,
   "metadata": {},
   "outputs": [
    {
     "data": {
      "text/plain": [
       "'abc is 21 years old'"
      ]
     },
     "execution_count": 12,
     "metadata": {},
     "output_type": "execute_result"
    }
   ],
   "source": [
    "a.description()"
   ]
  },
  {
   "cell_type": "code",
   "execution_count": 13,
   "metadata": {},
   "outputs": [
    {
     "data": {
      "text/plain": [
       "'abc says bow bow'"
      ]
     },
     "execution_count": 13,
     "metadata": {},
     "output_type": "execute_result"
    }
   ],
   "source": [
    "a.speak(\"bow bow\")"
   ]
  },
  {
   "cell_type": "code",
   "execution_count": 27,
   "metadata": {},
   "outputs": [],
   "source": [
    "b = Bulldog(\"dumpy\",10)"
   ]
  },
  {
   "cell_type": "code",
   "execution_count": 28,
   "metadata": {},
   "outputs": [
    {
     "data": {
      "text/plain": [
       "'dumpy'"
      ]
     },
     "execution_count": 28,
     "metadata": {},
     "output_type": "execute_result"
    }
   ],
   "source": [
    "b.name"
   ]
  },
  {
   "cell_type": "code",
   "execution_count": 29,
   "metadata": {},
   "outputs": [
    {
     "data": {
      "text/plain": [
       "dumpy is 10 years old"
      ]
     },
     "execution_count": 29,
     "metadata": {},
     "output_type": "execute_result"
    }
   ],
   "source": [
    "b"
   ]
  },
  {
   "cell_type": "code",
   "execution_count": 30,
   "metadata": {},
   "outputs": [
    {
     "data": {
      "text/plain": [
       "__main__.Bulldog"
      ]
     },
     "execution_count": 30,
     "metadata": {},
     "output_type": "execute_result"
    }
   ],
   "source": [
    "#determine the class of an object\n",
    "type(b)"
   ]
  },
  {
   "cell_type": "code",
   "execution_count": 31,
   "metadata": {},
   "outputs": [
    {
     "data": {
      "text/plain": [
       "True"
      ]
     },
     "execution_count": 31,
     "metadata": {},
     "output_type": "execute_result"
    }
   ],
   "source": [
    "#to check whether an object is also an instance of another class\n",
    "#all objects created from a child class are instances of parent class\n",
    "isinstance(b, Dog)"
   ]
  },
  {
   "cell_type": "markdown",
   "metadata": {},
   "source": [
    "### Extend the functionality of a parent class"
   ]
  },
  {
   "cell_type": "code",
   "execution_count": 1,
   "metadata": {},
   "outputs": [],
   "source": [
    "#Parent class\n",
    "class Dog:\n",
    "    species = \"Canis\"  #class attributes\n",
    "    \n",
    "    def __init__(self, name, age): #instance attributes\n",
    "        self.name = name\n",
    "        self.age = age\n",
    "    \n",
    "    #Instance method\n",
    "    def description(self):\n",
    "        return f\"{self.name} is {self.age} years old\"\n",
    "    \n",
    "    #Another Instance method\n",
    "    def speak(self, sound):\n",
    "        return f\"{self.name} says {sound}\"\n",
    "    \n",
    "    def __repr__(self):\n",
    "        return f\"{self.name} is {self.age} years old\"\n",
    "\n",
    "#Child class\n",
    "class JRT(Dog):\n",
    "    def speak(self, sound = 'Arf'):\n",
    "        return f\"{self.name} says {sound}\""
   ]
  },
  {
   "cell_type": "code",
   "execution_count": 2,
   "metadata": {},
   "outputs": [],
   "source": [
    "a = JRT(\"Jack\",2)"
   ]
  },
  {
   "cell_type": "code",
   "execution_count": 3,
   "metadata": {},
   "outputs": [
    {
     "data": {
      "text/plain": [
       "'Jack says Arf'"
      ]
     },
     "execution_count": 3,
     "metadata": {},
     "output_type": "execute_result"
    }
   ],
   "source": [
    "a.speak()"
   ]
  },
  {
   "cell_type": "code",
   "execution_count": 4,
   "metadata": {},
   "outputs": [
    {
     "data": {
      "text/plain": [
       "'Jack says Woof'"
      ]
     },
     "execution_count": 4,
     "metadata": {},
     "output_type": "execute_result"
    }
   ],
   "source": [
    "a.speak(\"Woof\")"
   ]
  },
  {
   "cell_type": "code",
   "execution_count": 5,
   "metadata": {},
   "outputs": [],
   "source": [
    "#Changes to the parent class automatically propagates to the child class as long as the attribute or method isn't overridden\n",
    "#Parent class\n",
    "class Dog:\n",
    "    species = \"Canis\"  #class attributes\n",
    "    \n",
    "    def __init__(self, name, age): #instance attributes\n",
    "        self.name = name\n",
    "        self.age = age\n",
    "    \n",
    "    #Instance method\n",
    "    def description(self):\n",
    "        return f\"{self.name} is {self.age} years old\"\n",
    "    \n",
    "    #Another Instance method\n",
    "    def speak(self, sound):\n",
    "        return f\"{self.name} barks: {sound}\"\n",
    "    \n",
    "    def __repr__(self):\n",
    "        return f\"{self.name} is {self.age} years old\"\n",
    "\n",
    "#Child class\n",
    "class JRT(Dog):\n",
    "    def speak(self, sound = 'Arf'):\n",
    "        return f\"{self.name} says {sound}\""
   ]
  },
  {
   "cell_type": "code",
   "execution_count": 6,
   "metadata": {},
   "outputs": [],
   "source": [
    "a = JRT(\"Jack\", 2)"
   ]
  },
  {
   "cell_type": "code",
   "execution_count": 7,
   "metadata": {},
   "outputs": [
    {
     "data": {
      "text/plain": [
       "'Jack says Arf'"
      ]
     },
     "execution_count": 7,
     "metadata": {},
     "output_type": "execute_result"
    }
   ],
   "source": [
    "a.speak()"
   ]
  },
  {
   "cell_type": "code",
   "execution_count": 8,
   "metadata": {},
   "outputs": [],
   "source": [
    "b = Dog(\"Daniel\", 3)"
   ]
  },
  {
   "cell_type": "code",
   "execution_count": 10,
   "metadata": {},
   "outputs": [
    {
     "data": {
      "text/plain": [
       "'Daniel barks: Arf'"
      ]
     },
     "execution_count": 10,
     "metadata": {},
     "output_type": "execute_result"
    }
   ],
   "source": [
    "b.speak(\"Arf\")"
   ]
  },
  {
   "cell_type": "markdown",
   "metadata": {},
   "source": [
    "### Accessing parent class from child class"
   ]
  },
  {
   "cell_type": "code",
   "execution_count": 11,
   "metadata": {},
   "outputs": [],
   "source": [
    "#Parent class\n",
    "class Dog:\n",
    "    species = \"Canis\"  #class attributes\n",
    "    \n",
    "    def __init__(self, name, age): #instance attributes\n",
    "        self.name = name\n",
    "        self.age = age\n",
    "    \n",
    "    #Instance method\n",
    "    def description(self):\n",
    "        return f\"{self.name} is {self.age} years old\"\n",
    "    \n",
    "    #Another Instance method\n",
    "    def speak(self, sound):\n",
    "        return f\"{self.name} says {sound}\"\n",
    "    \n",
    "    def __repr__(self):\n",
    "        return f\"{self.name} is {self.age} years old\"\n",
    "\n",
    "#Child class\n",
    "class JRT(Dog):\n",
    "    def speak(self, sound = 'Arf'):\n",
    "        return super().speak(sound)\n",
    "    \n",
    "#we can access parent class inside a method of a child class by using super()\n",
    "#super() searches the parent class for a method or an attribute\n",
    "#for multiple class hierarchy, super() traverses the entire class hierarchy for a matching method or attribute"
   ]
  },
  {
   "cell_type": "markdown",
   "metadata": {},
   "source": [
    "# OOPS from Link2"
   ]
  },
  {
   "cell_type": "markdown",
   "metadata": {},
   "source": [
    "### Class, attributes, methods, instances / objects"
   ]
  },
  {
   "cell_type": "code",
   "execution_count": 4,
   "metadata": {},
   "outputs": [
    {
     "name": "stdout",
     "output_type": "stream",
     "text": [
      " This pair of shoes are size 11, are made of leather, and costs $81\n"
     ]
    }
   ],
   "source": [
    "class Shoe:\n",
    "    # defines the initializer method\n",
    "    def __init__(self, size, isOnSale, material, price):\n",
    "        self.size = size\n",
    "        self.isOnSale = isOnSale\n",
    "        self.material = material\n",
    "        self.price = price\n",
    "\n",
    "    # Instance method\n",
    "    def printInfo(self):\n",
    "        return f\" This pair of shoes are size {self.size}, are made of {self.material}, and costs ${self.price}\"\n",
    "\n",
    "\n",
    "   # Instance method\n",
    "    def putOnSale(self):\n",
    "        self.isOnSale = true\n",
    "\n",
    "sneaker3 = Shoe(11, 'false', \"leather\", 81)\n",
    "\n",
    "print (sneaker3.printInfo())"
   ]
  },
  {
   "cell_type": "code",
   "execution_count": 6,
   "metadata": {},
   "outputs": [
    {
     "data": {
      "text/plain": [
       "11"
      ]
     },
     "execution_count": 6,
     "metadata": {},
     "output_type": "execute_result"
    }
   ],
   "source": [
    "sneaker3.size"
   ]
  },
  {
   "cell_type": "markdown",
   "metadata": {},
   "source": [
    "### Inheritance"
   ]
  },
  {
   "cell_type": "code",
   "execution_count": 7,
   "metadata": {},
   "outputs": [
    {
     "name": "stdout",
     "output_type": "stream",
     "text": [
      " This pair of sandals are size 11, are made of leather, and costs $81\n"
     ]
    }
   ],
   "source": [
    "#Sandal is the child class to parent class Shoe\n",
    "class Sandal(Shoe):\n",
    "    def __init__(self, size, isOnSale, material, price, waterproof):\n",
    "    #inherit self, size, isOnSale, material, and price properties\n",
    "       Shoe.__init__(self, size, isOnSale, material, price)\n",
    "    #expands Sandal to contain additional property waterproof\n",
    "       self.waterproof = waterproof\n",
    " \n",
    "    #overwrites printInfo to reference \"pair of sandals\" rather than shoes\n",
    "    def printInfo(self):\n",
    "        return f\" This pair of sandals are size {self.size}, are made of {self.material}, and costs ${self.price}\"\n",
    "\n",
    "sandal1 = Sandal(11, False, \"leather\", 81, True)\n",
    " \n",
    "print (sandal1.printInfo())"
   ]
  },
  {
   "cell_type": "code",
   "execution_count": null,
   "metadata": {},
   "outputs": [],
   "source": []
  }
 ],
 "metadata": {
  "kernelspec": {
   "display_name": "Python 3",
   "language": "python",
   "name": "python3"
  },
  "language_info": {
   "codemirror_mode": {
    "name": "ipython",
    "version": 3
   },
   "file_extension": ".py",
   "mimetype": "text/x-python",
   "name": "python",
   "nbconvert_exporter": "python",
   "pygments_lexer": "ipython3",
   "version": "3.7.1"
  }
 },
 "nbformat": 4,
 "nbformat_minor": 2
}
