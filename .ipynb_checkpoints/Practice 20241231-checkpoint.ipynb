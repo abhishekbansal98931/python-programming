{
 "cells": [
  {
   "cell_type": "code",
   "execution_count": 2,
   "id": "64e8d938",
   "metadata": {},
   "outputs": [],
   "source": [
    "import numpy as np\n",
    "import pandas as pd\n",
    "import matplotlib.pyplot as plt\n",
    "import os"
   ]
  },
  {
   "cell_type": "code",
   "execution_count": 63,
   "id": "95806aaf",
   "metadata": {},
   "outputs": [],
   "source": [
    "?pd.crosstab\n",
    "?pd.concat"
   ]
  },
  {
   "cell_type": "code",
   "execution_count": 5,
   "id": "1a987813",
   "metadata": {},
   "outputs": [],
   "source": [
    "df = pd.DataFrame({\n",
    "    \"country\": ['India', 'India', 'India', 'India', 'Australia', 'Australia', 'Australia', 'SA', 'SA', 'India', 'India'],\n",
    "    \"state\" : ['MP', 'MP', 'MP', 'UP', 'NSW', 'NSW', 'Victoria', 'Gauteng', 'Western Cape', 'Delhi','UP'],\n",
    "    \"city\": ['Indore', 'Bhopal', 'Jabalpur', 'Lucknow', 'Sydney', 'Newcastle', 'Melbourne', 'Johannesburg', 'Cape Town', 'Delhi', 'Noida'],\n",
    "    \"sales\": [150, 200, 100, 100, 200, 250, 300, 300, 200, 100, 50]\n",
    "})"
   ]
  },
  {
   "cell_type": "code",
   "execution_count": 86,
   "id": "e1eddf9b",
   "metadata": {},
   "outputs": [],
   "source": [
    "?df.rank"
   ]
  },
  {
   "cell_type": "code",
   "execution_count": 100,
   "id": "427dc911",
   "metadata": {},
   "outputs": [
    {
     "data": {
      "text/plain": [
       "array([1, 3, 5, 7, 9])"
      ]
     },
     "execution_count": 100,
     "metadata": {},
     "output_type": "execute_result"
    }
   ],
   "source": [
    "np.arange(1,10,2)"
   ]
  },
  {
   "cell_type": "code",
   "execution_count": 118,
   "id": "b571f446",
   "metadata": {},
   "outputs": [
    {
     "data": {
      "text/html": [
       "<div>\n",
       "<style scoped>\n",
       "    .dataframe tbody tr th:only-of-type {\n",
       "        vertical-align: middle;\n",
       "    }\n",
       "\n",
       "    .dataframe tbody tr th {\n",
       "        vertical-align: top;\n",
       "    }\n",
       "\n",
       "    .dataframe thead th {\n",
       "        text-align: right;\n",
       "    }\n",
       "</style>\n",
       "<table border=\"1\" class=\"dataframe\">\n",
       "  <thead>\n",
       "    <tr style=\"text-align: right;\">\n",
       "      <th></th>\n",
       "      <th>sales</th>\n",
       "      <th>rank</th>\n",
       "      <th>sales2</th>\n",
       "    </tr>\n",
       "  </thead>\n",
       "  <tbody>\n",
       "    <tr>\n",
       "      <th>count</th>\n",
       "      <td>11.000000</td>\n",
       "      <td>11.000000</td>\n",
       "      <td>11.000000</td>\n",
       "    </tr>\n",
       "    <tr>\n",
       "      <th>mean</th>\n",
       "      <td>177.272727</td>\n",
       "      <td>2.272727</td>\n",
       "      <td>88.636364</td>\n",
       "    </tr>\n",
       "    <tr>\n",
       "      <th>std</th>\n",
       "      <td>84.745609</td>\n",
       "      <td>1.009050</td>\n",
       "      <td>42.372804</td>\n",
       "    </tr>\n",
       "    <tr>\n",
       "      <th>min</th>\n",
       "      <td>50.000000</td>\n",
       "      <td>1.000000</td>\n",
       "      <td>25.000000</td>\n",
       "    </tr>\n",
       "    <tr>\n",
       "      <th>25%</th>\n",
       "      <td>100.000000</td>\n",
       "      <td>1.500000</td>\n",
       "      <td>50.000000</td>\n",
       "    </tr>\n",
       "    <tr>\n",
       "      <th>50%</th>\n",
       "      <td>200.000000</td>\n",
       "      <td>2.000000</td>\n",
       "      <td>100.000000</td>\n",
       "    </tr>\n",
       "    <tr>\n",
       "      <th>75%</th>\n",
       "      <td>225.000000</td>\n",
       "      <td>3.000000</td>\n",
       "      <td>112.500000</td>\n",
       "    </tr>\n",
       "    <tr>\n",
       "      <th>max</th>\n",
       "      <td>300.000000</td>\n",
       "      <td>4.000000</td>\n",
       "      <td>150.000000</td>\n",
       "    </tr>\n",
       "  </tbody>\n",
       "</table>\n",
       "</div>"
      ],
      "text/plain": [
       "            sales       rank      sales2\n",
       "count   11.000000  11.000000   11.000000\n",
       "mean   177.272727   2.272727   88.636364\n",
       "std     84.745609   1.009050   42.372804\n",
       "min     50.000000   1.000000   25.000000\n",
       "25%    100.000000   1.500000   50.000000\n",
       "50%    200.000000   2.000000  100.000000\n",
       "75%    225.000000   3.000000  112.500000\n",
       "max    300.000000   4.000000  150.000000"
      ]
     },
     "execution_count": 118,
     "metadata": {},
     "output_type": "execute_result"
    }
   ],
   "source": [
    "df[['sales','rank','sales2']].describe()"
   ]
  },
  {
   "cell_type": "code",
   "execution_count": 119,
   "id": "5cc1c3bf",
   "metadata": {},
   "outputs": [],
   "source": [
    "df1 = df[['sales','rank','sales2']]"
   ]
  },
  {
   "cell_type": "code",
   "execution_count": 190,
   "id": "7ab970d0",
   "metadata": {},
   "outputs": [],
   "source": [
    "x = ['sales','sales2','rank']\n",
    "dff = pd.DataFrame()\n",
    "for i,j in enumerate(x):\n",
    "    df2 = df1.agg({j:[sum,np.mean, len, np.std, min, max]})\n",
    "    if i == 0:\n",
    "        dff = df2\n",
    "    else:\n",
    "        dff = pd.concat([dff,df2], axis=1)\n",
    "#df1.agg({'sales':[sum,np.mean, len, np.std, min, max], 'sales2':np.mean})"
   ]
  },
  {
   "cell_type": "code",
   "execution_count": 191,
   "id": "a3591b8d",
   "metadata": {},
   "outputs": [
    {
     "data": {
      "text/html": [
       "<div>\n",
       "<style scoped>\n",
       "    .dataframe tbody tr th:only-of-type {\n",
       "        vertical-align: middle;\n",
       "    }\n",
       "\n",
       "    .dataframe tbody tr th {\n",
       "        vertical-align: top;\n",
       "    }\n",
       "\n",
       "    .dataframe thead th {\n",
       "        text-align: right;\n",
       "    }\n",
       "</style>\n",
       "<table border=\"1\" class=\"dataframe\">\n",
       "  <thead>\n",
       "    <tr style=\"text-align: right;\">\n",
       "      <th></th>\n",
       "      <th>sales</th>\n",
       "      <th>sales2</th>\n",
       "      <th>rank</th>\n",
       "    </tr>\n",
       "  </thead>\n",
       "  <tbody>\n",
       "    <tr>\n",
       "      <th>sum</th>\n",
       "      <td>1950.000000</td>\n",
       "      <td>975.000000</td>\n",
       "      <td>25.000000</td>\n",
       "    </tr>\n",
       "    <tr>\n",
       "      <th>mean</th>\n",
       "      <td>177.272727</td>\n",
       "      <td>88.636364</td>\n",
       "      <td>2.272727</td>\n",
       "    </tr>\n",
       "    <tr>\n",
       "      <th>len</th>\n",
       "      <td>11.000000</td>\n",
       "      <td>11.000000</td>\n",
       "      <td>11.000000</td>\n",
       "    </tr>\n",
       "    <tr>\n",
       "      <th>std</th>\n",
       "      <td>84.745609</td>\n",
       "      <td>42.372804</td>\n",
       "      <td>1.009050</td>\n",
       "    </tr>\n",
       "    <tr>\n",
       "      <th>min</th>\n",
       "      <td>50.000000</td>\n",
       "      <td>25.000000</td>\n",
       "      <td>1.000000</td>\n",
       "    </tr>\n",
       "    <tr>\n",
       "      <th>max</th>\n",
       "      <td>300.000000</td>\n",
       "      <td>150.000000</td>\n",
       "      <td>4.000000</td>\n",
       "    </tr>\n",
       "  </tbody>\n",
       "</table>\n",
       "</div>"
      ],
      "text/plain": [
       "            sales      sales2       rank\n",
       "sum   1950.000000  975.000000  25.000000\n",
       "mean   177.272727   88.636364   2.272727\n",
       "len     11.000000   11.000000  11.000000\n",
       "std     84.745609   42.372804   1.009050\n",
       "min     50.000000   25.000000   1.000000\n",
       "max    300.000000  150.000000   4.000000"
      ]
     },
     "execution_count": 191,
     "metadata": {},
     "output_type": "execute_result"
    }
   ],
   "source": [
    "dff"
   ]
  },
  {
   "cell_type": "code",
   "execution_count": 250,
   "id": "2f3802b8",
   "metadata": {},
   "outputs": [
    {
     "data": {
      "text/html": [
       "<div>\n",
       "<style scoped>\n",
       "    .dataframe tbody tr th:only-of-type {\n",
       "        vertical-align: middle;\n",
       "    }\n",
       "\n",
       "    .dataframe tbody tr th {\n",
       "        vertical-align: top;\n",
       "    }\n",
       "\n",
       "    .dataframe thead th {\n",
       "        text-align: right;\n",
       "    }\n",
       "</style>\n",
       "<table border=\"1\" class=\"dataframe\">\n",
       "  <thead>\n",
       "    <tr style=\"text-align: right;\">\n",
       "      <th></th>\n",
       "      <th>country</th>\n",
       "      <th>city</th>\n",
       "      <th>sales</th>\n",
       "    </tr>\n",
       "  </thead>\n",
       "  <tbody>\n",
       "    <tr>\n",
       "      <th>0</th>\n",
       "      <td>India</td>\n",
       "      <td>Indore</td>\n",
       "      <td>150</td>\n",
       "    </tr>\n",
       "    <tr>\n",
       "      <th>1</th>\n",
       "      <td>India</td>\n",
       "      <td>Bhopal</td>\n",
       "      <td>200</td>\n",
       "    </tr>\n",
       "    <tr>\n",
       "      <th>2</th>\n",
       "      <td>India</td>\n",
       "      <td>Jabalpur</td>\n",
       "      <td>100</td>\n",
       "    </tr>\n",
       "    <tr>\n",
       "      <th>3</th>\n",
       "      <td>India</td>\n",
       "      <td>Lucknow</td>\n",
       "      <td>100</td>\n",
       "    </tr>\n",
       "    <tr>\n",
       "      <th>4</th>\n",
       "      <td>Australia</td>\n",
       "      <td>Sydney</td>\n",
       "      <td>200</td>\n",
       "    </tr>\n",
       "    <tr>\n",
       "      <th>5</th>\n",
       "      <td>Australia</td>\n",
       "      <td>Newcastle</td>\n",
       "      <td>250</td>\n",
       "    </tr>\n",
       "    <tr>\n",
       "      <th>6</th>\n",
       "      <td>Australia</td>\n",
       "      <td>Melbourne</td>\n",
       "      <td>300</td>\n",
       "    </tr>\n",
       "    <tr>\n",
       "      <th>7</th>\n",
       "      <td>SA</td>\n",
       "      <td>Johannesburg</td>\n",
       "      <td>300</td>\n",
       "    </tr>\n",
       "    <tr>\n",
       "      <th>8</th>\n",
       "      <td>SA</td>\n",
       "      <td>Cape Town</td>\n",
       "      <td>200</td>\n",
       "    </tr>\n",
       "    <tr>\n",
       "      <th>9</th>\n",
       "      <td>India</td>\n",
       "      <td>Delhi</td>\n",
       "      <td>100</td>\n",
       "    </tr>\n",
       "    <tr>\n",
       "      <th>10</th>\n",
       "      <td>India</td>\n",
       "      <td>Noida</td>\n",
       "      <td>50</td>\n",
       "    </tr>\n",
       "  </tbody>\n",
       "</table>\n",
       "</div>"
      ],
      "text/plain": [
       "      country          city  sales\n",
       "0       India        Indore    150\n",
       "1       India        Bhopal    200\n",
       "2       India      Jabalpur    100\n",
       "3       India       Lucknow    100\n",
       "4   Australia        Sydney    200\n",
       "5   Australia     Newcastle    250\n",
       "6   Australia     Melbourne    300\n",
       "7          SA  Johannesburg    300\n",
       "8          SA     Cape Town    200\n",
       "9       India         Delhi    100\n",
       "10      India         Noida     50"
      ]
     },
     "execution_count": 250,
     "metadata": {},
     "output_type": "execute_result"
    }
   ],
   "source": [
    "dfx = df[['country','city','sales']]\n",
    "dfx"
   ]
  },
  {
   "cell_type": "code",
   "execution_count": 253,
   "id": "757fb21b",
   "metadata": {},
   "outputs": [],
   "source": [
    "dfy = dfx.pivot_table(index='country',columns='city',values='sales').reset_index()"
   ]
  },
  {
   "cell_type": "code",
   "execution_count": 258,
   "id": "f497dde1",
   "metadata": {},
   "outputs": [
    {
     "data": {
      "text/html": [
       "<div>\n",
       "<style scoped>\n",
       "    .dataframe tbody tr th:only-of-type {\n",
       "        vertical-align: middle;\n",
       "    }\n",
       "\n",
       "    .dataframe tbody tr th {\n",
       "        vertical-align: top;\n",
       "    }\n",
       "\n",
       "    .dataframe thead th {\n",
       "        text-align: right;\n",
       "    }\n",
       "</style>\n",
       "<table border=\"1\" class=\"dataframe\">\n",
       "  <thead>\n",
       "    <tr style=\"text-align: right;\">\n",
       "      <th></th>\n",
       "      <th>country</th>\n",
       "      <th>city</th>\n",
       "      <th>sales</th>\n",
       "    </tr>\n",
       "  </thead>\n",
       "  <tbody>\n",
       "    <tr>\n",
       "      <th>1</th>\n",
       "      <td>India</td>\n",
       "      <td>Bhopal</td>\n",
       "      <td>200.0</td>\n",
       "    </tr>\n",
       "    <tr>\n",
       "      <th>5</th>\n",
       "      <td>SA</td>\n",
       "      <td>Cape Town</td>\n",
       "      <td>200.0</td>\n",
       "    </tr>\n",
       "    <tr>\n",
       "      <th>7</th>\n",
       "      <td>India</td>\n",
       "      <td>Delhi</td>\n",
       "      <td>100.0</td>\n",
       "    </tr>\n",
       "    <tr>\n",
       "      <th>10</th>\n",
       "      <td>India</td>\n",
       "      <td>Indore</td>\n",
       "      <td>150.0</td>\n",
       "    </tr>\n",
       "    <tr>\n",
       "      <th>13</th>\n",
       "      <td>India</td>\n",
       "      <td>Jabalpur</td>\n",
       "      <td>100.0</td>\n",
       "    </tr>\n",
       "    <tr>\n",
       "      <th>17</th>\n",
       "      <td>SA</td>\n",
       "      <td>Johannesburg</td>\n",
       "      <td>300.0</td>\n",
       "    </tr>\n",
       "    <tr>\n",
       "      <th>19</th>\n",
       "      <td>India</td>\n",
       "      <td>Lucknow</td>\n",
       "      <td>100.0</td>\n",
       "    </tr>\n",
       "    <tr>\n",
       "      <th>21</th>\n",
       "      <td>Australia</td>\n",
       "      <td>Melbourne</td>\n",
       "      <td>300.0</td>\n",
       "    </tr>\n",
       "    <tr>\n",
       "      <th>24</th>\n",
       "      <td>Australia</td>\n",
       "      <td>Newcastle</td>\n",
       "      <td>250.0</td>\n",
       "    </tr>\n",
       "    <tr>\n",
       "      <th>28</th>\n",
       "      <td>India</td>\n",
       "      <td>Noida</td>\n",
       "      <td>50.0</td>\n",
       "    </tr>\n",
       "    <tr>\n",
       "      <th>30</th>\n",
       "      <td>Australia</td>\n",
       "      <td>Sydney</td>\n",
       "      <td>200.0</td>\n",
       "    </tr>\n",
       "  </tbody>\n",
       "</table>\n",
       "</div>"
      ],
      "text/plain": [
       "      country          city  sales\n",
       "1       India        Bhopal  200.0\n",
       "5          SA     Cape Town  200.0\n",
       "7       India         Delhi  100.0\n",
       "10      India        Indore  150.0\n",
       "13      India      Jabalpur  100.0\n",
       "17         SA  Johannesburg  300.0\n",
       "19      India       Lucknow  100.0\n",
       "21  Australia     Melbourne  300.0\n",
       "24  Australia     Newcastle  250.0\n",
       "28      India         Noida   50.0\n",
       "30  Australia        Sydney  200.0"
      ]
     },
     "execution_count": 258,
     "metadata": {},
     "output_type": "execute_result"
    }
   ],
   "source": [
    "dfy.melt(id_vars='country',value_vars=['Bhopal', 'Cape Town', 'Delhi', 'Indore', 'Jabalpur','Johannesburg', 'Lucknow', \n",
    "    'Melbourne', 'Newcastle', 'Noida', 'Sydney'], var_name='city',value_name='sales').dropna()"
   ]
  },
  {
   "cell_type": "code",
   "execution_count": 256,
   "id": "4f0cc74d",
   "metadata": {},
   "outputs": [
    {
     "data": {
      "text/plain": [
       "Index(['country', 'Bhopal', 'Cape Town', 'Delhi', 'Indore', 'Jabalpur',\n",
       "       'Johannesburg', 'Lucknow', 'Melbourne', 'Newcastle', 'Noida', 'Sydney'],\n",
       "      dtype='object', name='city')"
      ]
     },
     "execution_count": 256,
     "metadata": {},
     "output_type": "execute_result"
    }
   ],
   "source": [
    "dfy.columns"
   ]
  },
  {
   "cell_type": "code",
   "execution_count": 260,
   "id": "f8a0dee5",
   "metadata": {},
   "outputs": [],
   "source": [
    "y = df.pop('test')"
   ]
  },
  {
   "cell_type": "code",
   "execution_count": 263,
   "id": "f3ac78cb",
   "metadata": {},
   "outputs": [
    {
     "data": {
      "text/plain": [
       "array([['India', 'MP', 'Indore', 150, 2.0, 75.0],\n",
       "       ['India', 'MP', 'Bhopal', 200, 1.0, 100.0],\n",
       "       ['India', 'MP', 'Jabalpur', 100, 3.0, 50.0],\n",
       "       ['India', 'UP', 'Lucknow', 100, 3.0, 50.0],\n",
       "       ['Australia', 'NSW', 'Sydney', 200, 3.0, 100.0],\n",
       "       ['Australia', 'NSW', 'Newcastle', 250, 2.0, 125.0],\n",
       "       ['Australia', 'Victoria', 'Melbourne', 300, 1.0, 150.0],\n",
       "       ['SA', 'Gauteng', 'Johannesburg', 300, 1.0, 150.0],\n",
       "       ['SA', 'Western Cape', 'Cape Town', 200, 2.0, 100.0],\n",
       "       ['India', 'Delhi', 'Delhi', 100, 3.0, 50.0],\n",
       "       ['India', 'UP', 'Noida', 50, 4.0, 25.0]], dtype=object)"
      ]
     },
     "execution_count": 263,
     "metadata": {},
     "output_type": "execute_result"
    }
   ],
   "source": [
    "df.values"
   ]
  },
  {
   "cell_type": "code",
   "execution_count": 264,
   "id": "89f10782",
   "metadata": {},
   "outputs": [
    {
     "data": {
      "text/plain": [
       "{'a': 5, 'b': 6}"
      ]
     },
     "execution_count": 264,
     "metadata": {},
     "output_type": "execute_result"
    }
   ],
   "source": [
    "dict(a=5,b=6)"
   ]
  },
  {
   "cell_type": "code",
   "execution_count": 265,
   "id": "b99f0437",
   "metadata": {},
   "outputs": [
    {
     "data": {
      "text/plain": [
       "6"
      ]
     },
     "execution_count": 265,
     "metadata": {},
     "output_type": "execute_result"
    }
   ],
   "source": [
    "round(6.5)"
   ]
  },
  {
   "cell_type": "code",
   "execution_count": 266,
   "id": "704ae1b8",
   "metadata": {},
   "outputs": [
    {
     "data": {
      "text/plain": [
       "8"
      ]
     },
     "execution_count": 266,
     "metadata": {},
     "output_type": "execute_result"
    }
   ],
   "source": [
    "round(7.5)"
   ]
  },
  {
   "cell_type": "code",
   "execution_count": 8,
   "id": "36a80fbd",
   "metadata": {},
   "outputs": [
    {
     "data": {
      "text/html": [
       "<div>\n",
       "<style scoped>\n",
       "    .dataframe tbody tr th:only-of-type {\n",
       "        vertical-align: middle;\n",
       "    }\n",
       "\n",
       "    .dataframe tbody tr th {\n",
       "        vertical-align: top;\n",
       "    }\n",
       "\n",
       "    .dataframe thead th {\n",
       "        text-align: right;\n",
       "    }\n",
       "</style>\n",
       "<table border=\"1\" class=\"dataframe\">\n",
       "  <thead>\n",
       "    <tr style=\"text-align: right;\">\n",
       "      <th></th>\n",
       "      <th>country</th>\n",
       "      <th>state</th>\n",
       "      <th>city</th>\n",
       "      <th>sales</th>\n",
       "    </tr>\n",
       "  </thead>\n",
       "  <tbody>\n",
       "    <tr>\n",
       "      <th>0</th>\n",
       "      <td>India</td>\n",
       "      <td>MP</td>\n",
       "      <td>Indore</td>\n",
       "      <td>150</td>\n",
       "    </tr>\n",
       "    <tr>\n",
       "      <th>1</th>\n",
       "      <td>India</td>\n",
       "      <td>MP</td>\n",
       "      <td>Bhopal</td>\n",
       "      <td>200</td>\n",
       "    </tr>\n",
       "    <tr>\n",
       "      <th>2</th>\n",
       "      <td>India</td>\n",
       "      <td>MP</td>\n",
       "      <td>Jabalpur</td>\n",
       "      <td>100</td>\n",
       "    </tr>\n",
       "    <tr>\n",
       "      <th>3</th>\n",
       "      <td>India</td>\n",
       "      <td>UP</td>\n",
       "      <td>Lucknow</td>\n",
       "      <td>100</td>\n",
       "    </tr>\n",
       "    <tr>\n",
       "      <th>4</th>\n",
       "      <td>Australia</td>\n",
       "      <td>NSW</td>\n",
       "      <td>Sydney</td>\n",
       "      <td>200</td>\n",
       "    </tr>\n",
       "    <tr>\n",
       "      <th>5</th>\n",
       "      <td>Australia</td>\n",
       "      <td>NSW</td>\n",
       "      <td>Newcastle</td>\n",
       "      <td>250</td>\n",
       "    </tr>\n",
       "    <tr>\n",
       "      <th>6</th>\n",
       "      <td>Australia</td>\n",
       "      <td>Victoria</td>\n",
       "      <td>Melbourne</td>\n",
       "      <td>300</td>\n",
       "    </tr>\n",
       "    <tr>\n",
       "      <th>7</th>\n",
       "      <td>SA</td>\n",
       "      <td>Gauteng</td>\n",
       "      <td>Johannesburg</td>\n",
       "      <td>300</td>\n",
       "    </tr>\n",
       "    <tr>\n",
       "      <th>8</th>\n",
       "      <td>SA</td>\n",
       "      <td>Western Cape</td>\n",
       "      <td>Cape Town</td>\n",
       "      <td>200</td>\n",
       "    </tr>\n",
       "    <tr>\n",
       "      <th>9</th>\n",
       "      <td>India</td>\n",
       "      <td>Delhi</td>\n",
       "      <td>Delhi</td>\n",
       "      <td>100</td>\n",
       "    </tr>\n",
       "    <tr>\n",
       "      <th>10</th>\n",
       "      <td>India</td>\n",
       "      <td>UP</td>\n",
       "      <td>Noida</td>\n",
       "      <td>50</td>\n",
       "    </tr>\n",
       "  </tbody>\n",
       "</table>\n",
       "</div>"
      ],
      "text/plain": [
       "      country         state          city  sales\n",
       "0       India            MP        Indore    150\n",
       "1       India            MP        Bhopal    200\n",
       "2       India            MP      Jabalpur    100\n",
       "3       India            UP       Lucknow    100\n",
       "4   Australia           NSW        Sydney    200\n",
       "5   Australia           NSW     Newcastle    250\n",
       "6   Australia      Victoria     Melbourne    300\n",
       "7          SA       Gauteng  Johannesburg    300\n",
       "8          SA  Western Cape     Cape Town    200\n",
       "9       India         Delhi         Delhi    100\n",
       "10      India            UP         Noida     50"
      ]
     },
     "execution_count": 8,
     "metadata": {},
     "output_type": "execute_result"
    }
   ],
   "source": [
    "df"
   ]
  },
  {
   "cell_type": "code",
   "execution_count": 12,
   "id": "16313c62",
   "metadata": {},
   "outputs": [
    {
     "data": {
      "text/html": [
       "<div>\n",
       "<style scoped>\n",
       "    .dataframe tbody tr th:only-of-type {\n",
       "        vertical-align: middle;\n",
       "    }\n",
       "\n",
       "    .dataframe tbody tr th {\n",
       "        vertical-align: top;\n",
       "    }\n",
       "\n",
       "    .dataframe thead th {\n",
       "        text-align: right;\n",
       "    }\n",
       "</style>\n",
       "<table border=\"1\" class=\"dataframe\">\n",
       "  <thead>\n",
       "    <tr style=\"text-align: right;\">\n",
       "      <th></th>\n",
       "      <th>country</th>\n",
       "      <th>state</th>\n",
       "      <th>city</th>\n",
       "      <th>sales</th>\n",
       "    </tr>\n",
       "  </thead>\n",
       "  <tbody>\n",
       "    <tr>\n",
       "      <th>4</th>\n",
       "      <td>Australia</td>\n",
       "      <td>NSW</td>\n",
       "      <td>Sydney</td>\n",
       "      <td>200</td>\n",
       "    </tr>\n",
       "    <tr>\n",
       "      <th>5</th>\n",
       "      <td>Australia</td>\n",
       "      <td>NSW</td>\n",
       "      <td>Newcastle</td>\n",
       "      <td>250</td>\n",
       "    </tr>\n",
       "    <tr>\n",
       "      <th>6</th>\n",
       "      <td>Australia</td>\n",
       "      <td>Victoria</td>\n",
       "      <td>Melbourne</td>\n",
       "      <td>300</td>\n",
       "    </tr>\n",
       "    <tr>\n",
       "      <th>7</th>\n",
       "      <td>SA</td>\n",
       "      <td>Gauteng</td>\n",
       "      <td>Johannesburg</td>\n",
       "      <td>300</td>\n",
       "    </tr>\n",
       "    <tr>\n",
       "      <th>8</th>\n",
       "      <td>SA</td>\n",
       "      <td>Western Cape</td>\n",
       "      <td>Cape Town</td>\n",
       "      <td>200</td>\n",
       "    </tr>\n",
       "  </tbody>\n",
       "</table>\n",
       "</div>"
      ],
      "text/plain": [
       "     country         state          city  sales\n",
       "4  Australia           NSW        Sydney    200\n",
       "5  Australia           NSW     Newcastle    250\n",
       "6  Australia      Victoria     Melbourne    300\n",
       "7         SA       Gauteng  Johannesburg    300\n",
       "8         SA  Western Cape     Cape Town    200"
      ]
     },
     "execution_count": 12,
     "metadata": {},
     "output_type": "execute_result"
    }
   ],
   "source": [
    "df.groupby(['country']).filter(lambda x: x['sales'].mean() > 200)"
   ]
  },
  {
   "cell_type": "code",
   "execution_count": 13,
   "id": "197769f9",
   "metadata": {},
   "outputs": [],
   "source": [
    "a = pd.DataFrame({\"name\": ['Abhishek', 'Shrasti', 'Anvit']\n",
    "                  ,\"physics\": [99, np.NaN, 95]\n",
    "                  ,\"maths\": [100, 60, 99] })"
   ]
  },
  {
   "cell_type": "code",
   "execution_count": 24,
   "id": "31b4a19f",
   "metadata": {},
   "outputs": [
    {
     "data": {
      "text/html": [
       "<div>\n",
       "<style scoped>\n",
       "    .dataframe tbody tr th:only-of-type {\n",
       "        vertical-align: middle;\n",
       "    }\n",
       "\n",
       "    .dataframe tbody tr th {\n",
       "        vertical-align: top;\n",
       "    }\n",
       "\n",
       "    .dataframe thead th {\n",
       "        text-align: right;\n",
       "    }\n",
       "</style>\n",
       "<table border=\"1\" class=\"dataframe\">\n",
       "  <thead>\n",
       "    <tr style=\"text-align: right;\">\n",
       "      <th></th>\n",
       "      <th>name</th>\n",
       "      <th>physics</th>\n",
       "      <th>maths</th>\n",
       "    </tr>\n",
       "  </thead>\n",
       "  <tbody>\n",
       "    <tr>\n",
       "      <th>1</th>\n",
       "      <td>Shrasti</td>\n",
       "      <td>NaN</td>\n",
       "      <td>60</td>\n",
       "    </tr>\n",
       "  </tbody>\n",
       "</table>\n",
       "</div>"
      ],
      "text/plain": [
       "      name  physics  maths\n",
       "1  Shrasti      NaN     60"
      ]
     },
     "execution_count": 24,
     "metadata": {},
     "output_type": "execute_result"
    }
   ],
   "source": [
    "a[a.isnull().any(axis=1)]"
   ]
  },
  {
   "cell_type": "code",
   "execution_count": 64,
   "id": "d26cf024",
   "metadata": {},
   "outputs": [
    {
     "data": {
      "text/html": [
       "<div>\n",
       "<style scoped>\n",
       "    .dataframe tbody tr th:only-of-type {\n",
       "        vertical-align: middle;\n",
       "    }\n",
       "\n",
       "    .dataframe tbody tr th {\n",
       "        vertical-align: top;\n",
       "    }\n",
       "\n",
       "    .dataframe thead th {\n",
       "        text-align: right;\n",
       "    }\n",
       "</style>\n",
       "<table border=\"1\" class=\"dataframe\">\n",
       "  <thead>\n",
       "    <tr style=\"text-align: right;\">\n",
       "      <th></th>\n",
       "      <th>index</th>\n",
       "      <th>value</th>\n",
       "    </tr>\n",
       "  </thead>\n",
       "  <tbody>\n",
       "    <tr>\n",
       "      <th>1</th>\n",
       "      <td>physics</td>\n",
       "      <td>1</td>\n",
       "    </tr>\n",
       "  </tbody>\n",
       "</table>\n",
       "</div>"
      ],
      "text/plain": [
       "     index  value\n",
       "1  physics      1"
      ]
     },
     "execution_count": 64,
     "metadata": {},
     "output_type": "execute_result"
    }
   ],
   "source": [
    "b = pd.DataFrame(a.isnull().sum()).reset_index()\n",
    "b.columns = ['index','value']\n",
    "b[b.value > 0]"
   ]
  },
  {
   "cell_type": "code",
   "execution_count": 69,
   "id": "69edb6a3",
   "metadata": {},
   "outputs": [
    {
     "data": {
      "text/html": [
       "<div>\n",
       "<style scoped>\n",
       "    .dataframe tbody tr th:only-of-type {\n",
       "        vertical-align: middle;\n",
       "    }\n",
       "\n",
       "    .dataframe tbody tr th {\n",
       "        vertical-align: top;\n",
       "    }\n",
       "\n",
       "    .dataframe thead th {\n",
       "        text-align: right;\n",
       "    }\n",
       "</style>\n",
       "<table border=\"1\" class=\"dataframe\">\n",
       "  <thead>\n",
       "    <tr style=\"text-align: right;\">\n",
       "      <th></th>\n",
       "      <th>name</th>\n",
       "      <th>physics</th>\n",
       "      <th>maths</th>\n",
       "    </tr>\n",
       "  </thead>\n",
       "  <tbody>\n",
       "    <tr>\n",
       "      <th>1</th>\n",
       "      <td>Shrasti</td>\n",
       "      <td>NaN</td>\n",
       "      <td>60</td>\n",
       "    </tr>\n",
       "  </tbody>\n",
       "</table>\n",
       "</div>"
      ],
      "text/plain": [
       "      name  physics  maths\n",
       "1  Shrasti      NaN     60"
      ]
     },
     "execution_count": 69,
     "metadata": {},
     "output_type": "execute_result"
    }
   ],
   "source": [
    "a[a.isnull().any(axis=1)]"
   ]
  },
  {
   "cell_type": "code",
   "execution_count": 81,
   "id": "e0048d62",
   "metadata": {},
   "outputs": [
    {
     "data": {
      "text/plain": [
       "name       False\n",
       "physics     True\n",
       "maths      False\n",
       "dtype: bool"
      ]
     },
     "execution_count": 81,
     "metadata": {},
     "output_type": "execute_result"
    }
   ],
   "source": [
    "a.isnull().sum() > 0"
   ]
  },
  {
   "cell_type": "code",
   "execution_count": 73,
   "id": "6802d448",
   "metadata": {},
   "outputs": [],
   "source": [
    "?pd.DataFrame.sort_values"
   ]
  },
  {
   "cell_type": "code",
   "execution_count": 84,
   "id": "2193ff84",
   "metadata": {},
   "outputs": [
    {
     "data": {
      "text/plain": [
       "Index(['physics'], dtype='object')"
      ]
     },
     "execution_count": 84,
     "metadata": {},
     "output_type": "execute_result"
    }
   ],
   "source": [
    "a.columns[a.isnull().sum() > 0]"
   ]
  },
  {
   "cell_type": "code",
   "execution_count": null,
   "id": "824ccfde",
   "metadata": {},
   "outputs": [],
   "source": []
  }
 ],
 "metadata": {
  "kernelspec": {
   "display_name": "Python 3 (ipykernel)",
   "language": "python",
   "name": "python3"
  },
  "language_info": {
   "codemirror_mode": {
    "name": "ipython",
    "version": 3
   },
   "file_extension": ".py",
   "mimetype": "text/x-python",
   "name": "python",
   "nbconvert_exporter": "python",
   "pygments_lexer": "ipython3",
   "version": "3.9.12"
  }
 },
 "nbformat": 4,
 "nbformat_minor": 5
}
