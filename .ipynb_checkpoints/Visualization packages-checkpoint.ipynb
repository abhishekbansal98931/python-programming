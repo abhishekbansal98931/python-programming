{
 "cells": [
  {
   "cell_type": "code",
   "execution_count": null,
   "id": "af67d12a",
   "metadata": {},
   "outputs": [],
   "source": [
    "import pandas as pd\n",
    "import numpy as np"
   ]
  },
  {
   "cell_type": "code",
   "execution_count": null,
   "id": "27a8ca60",
   "metadata": {},
   "outputs": [],
   "source": [
    "df = pd.DataFrame({\n",
    "    \"country\": ['India', 'India', 'India', 'India', 'Australia', 'Australia', 'Australia', 'SA', 'SA', 'India', 'India'],\n",
    "    \"state\" : ['MP', 'MP', 'MP', 'UP', 'NSW', 'NSW', 'Victoria', 'Gauteng', 'Western Cape', 'Delhi','UP'],\n",
    "    \"city\": ['Indore', 'Bhopal', 'Jabalpur', 'Lucknow', 'Sydney', 'Newcastle', 'Melbourne', 'Johannesburg', 'Cape Town', 'Delhi', 'Noida'],\n",
    "    \"sales\": [150, 200, 100, 100, 200, 250, 300, 300, 200, 100, 50]\n",
    "})"
   ]
  },
  {
   "cell_type": "code",
   "execution_count": null,
   "id": "f445ee7a",
   "metadata": {},
   "outputs": [],
   "source": [
    "from pivottablejs import pivot_ui\n",
    "pivot_ui(df)"
   ]
  },
  {
   "cell_type": "code",
   "execution_count": null,
   "id": "696600b4",
   "metadata": {},
   "outputs": [],
   "source": [
    "df"
   ]
  },
  {
   "cell_type": "code",
   "execution_count": null,
   "id": "5306a3c9",
   "metadata": {},
   "outputs": [],
   "source": []
  }
 ],
 "metadata": {
  "kernelspec": {
   "display_name": "Python 3 (ipykernel)",
   "language": "python",
   "name": "python3"
  },
  "language_info": {
   "codemirror_mode": {
    "name": "ipython",
    "version": 3
   },
   "file_extension": ".py",
   "mimetype": "text/x-python",
   "name": "python",
   "nbconvert_exporter": "python",
   "pygments_lexer": "ipython3",
   "version": "3.9.12"
  }
 },
 "nbformat": 4,
 "nbformat_minor": 5
}
