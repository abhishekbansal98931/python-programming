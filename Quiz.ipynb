{
 "cells": [
  {
   "cell_type": "code",
   "execution_count": 15,
   "metadata": {},
   "outputs": [],
   "source": [
    "import pandas as pd\n",
    "import numpy as np"
   ]
  },
  {
   "cell_type": "code",
   "execution_count": 1,
   "metadata": {},
   "outputs": [
    {
     "ename": "SyntaxError",
     "evalue": "can't assign to operator (<ipython-input-1-4fc317b6e0a6>, line 2)",
     "output_type": "error",
     "traceback": [
      "\u001b[1;36m  File \u001b[1;32m\"<ipython-input-1-4fc317b6e0a6>\"\u001b[1;36m, line \u001b[1;32m2\u001b[0m\n\u001b[1;33m    test-m = 5\u001b[0m\n\u001b[1;37m              ^\u001b[0m\n\u001b[1;31mSyntaxError\u001b[0m\u001b[1;31m:\u001b[0m can't assign to operator\n"
     ]
    }
   ],
   "source": [
    "#invalid variable name\n",
    "test-m = 5"
   ]
  },
  {
   "cell_type": "code",
   "execution_count": 2,
   "metadata": {},
   "outputs": [
    {
     "data": {
      "text/plain": [
       "str"
      ]
     },
     "execution_count": 2,
     "metadata": {},
     "output_type": "execute_result"
    }
   ],
   "source": [
    "x = '5'\n",
    "type(x)"
   ]
  },
  {
   "cell_type": "code",
   "execution_count": 3,
   "metadata": {},
   "outputs": [
    {
     "name": "stdout",
     "output_type": "stream",
     "text": [
      "5*1*4*10\n"
     ]
    }
   ],
   "source": [
    "print(5,1,4,10,sep='*')"
   ]
  },
  {
   "cell_type": "code",
   "execution_count": 4,
   "metadata": {},
   "outputs": [
    {
     "name": "stdout",
     "output_type": "stream",
     "text": [
      "True\n"
     ]
    }
   ],
   "source": [
    "print(1 <= 3)"
   ]
  },
  {
   "cell_type": "code",
   "execution_count": 5,
   "metadata": {},
   "outputs": [
    {
     "data": {
      "text/plain": [
       "'abs'"
      ]
     },
     "execution_count": 5,
     "metadata": {},
     "output_type": "execute_result"
    }
   ],
   "source": [
    "x = 's'\n",
    "'s' + 'd' if 5 > 10 else 'a' + f'b{x}'"
   ]
  },
  {
   "cell_type": "code",
   "execution_count": 10,
   "metadata": {},
   "outputs": [
    {
     "data": {
      "text/plain": [
       "[1, 2, 3, [5, 6]]"
      ]
     },
     "execution_count": 10,
     "metadata": {},
     "output_type": "execute_result"
    }
   ],
   "source": [
    "#Add numbers 5 and 6 to existing list\n",
    "x = [1,2,3,4]\n",
    "#x+= [5,6]  true\n",
    "#x.extend([5,6]) true\n",
    "#x[len(x):] = [5,6] true\n",
    "#x[-1] = [5,6] false\n",
    "x"
   ]
  },
  {
   "cell_type": "code",
   "execution_count": 11,
   "metadata": {},
   "outputs": [
    {
     "data": {
      "text/plain": [
       "5.0"
      ]
     },
     "execution_count": 11,
     "metadata": {},
     "output_type": "execute_result"
    }
   ],
   "source": [
    "#result of the below expression\n",
    "5/1"
   ]
  },
  {
   "cell_type": "code",
   "execution_count": 13,
   "metadata": {},
   "outputs": [
    {
     "name": "stdout",
     "output_type": "stream",
     "text": [
      "['P', 'y', 't', 'h', 'n', '_', '1', '0', '1']\n"
     ]
    }
   ],
   "source": [
    "#result of the below expression\n",
    "sample_string = 'Python_101'\n",
    "print([i for i in f'{sample_string}' if i not in 'aeiou'])"
   ]
  },
  {
   "cell_type": "code",
   "execution_count": 14,
   "metadata": {},
   "outputs": [
    {
     "name": "stdout",
     "output_type": "stream",
     "text": [
      "['P', 'y', 't', 'h', 'n', '_', '1', '0', '1']\n"
     ]
    }
   ],
   "source": [
    "#result of the below expression\n",
    "sample_string = 'Python_101'\n",
    "print([i for i in sample_string if i not in 'aeiou'])"
   ]
  },
  {
   "cell_type": "code",
   "execution_count": 23,
   "metadata": {},
   "outputs": [
    {
     "data": {
      "text/html": [
       "<div>\n",
       "<style scoped>\n",
       "    .dataframe tbody tr th:only-of-type {\n",
       "        vertical-align: middle;\n",
       "    }\n",
       "\n",
       "    .dataframe tbody tr th {\n",
       "        vertical-align: top;\n",
       "    }\n",
       "\n",
       "    .dataframe thead th {\n",
       "        text-align: right;\n",
       "    }\n",
       "</style>\n",
       "<table border=\"1\" class=\"dataframe\">\n",
       "  <thead>\n",
       "    <tr style=\"text-align: right;\">\n",
       "      <th></th>\n",
       "      <th>Name</th>\n",
       "      <th>Age</th>\n",
       "    </tr>\n",
       "  </thead>\n",
       "  <tbody>\n",
       "    <tr>\n",
       "      <th>0</th>\n",
       "      <td>Abhishek</td>\n",
       "      <td>31</td>\n",
       "    </tr>\n",
       "    <tr>\n",
       "      <th>1</th>\n",
       "      <td>Akash</td>\n",
       "      <td>24</td>\n",
       "    </tr>\n",
       "  </tbody>\n",
       "</table>\n",
       "</div>"
      ],
      "text/plain": [
       "       Name  Age\n",
       "0  Abhishek   31\n",
       "1     Akash   24"
      ]
     },
     "execution_count": 23,
     "metadata": {},
     "output_type": "execute_result"
    }
   ],
   "source": [
    "#creating a dataframe\n",
    "#list of tuples\n",
    "a = [('Abhishek',31), ('Anvit',2), ('Shrasti', 30)]\n",
    "df1 = pd.DataFrame(a, columns = ['Name','Age'])\n",
    "\n",
    "#list of lists\n",
    "b = [['Abhishek',31], ['Anvit',2], ['Shrasti', 30]]\n",
    "df2 = pd.DataFrame(b, columns = ['Name', 'Age'])\n",
    "\n",
    "#dictonary\n",
    "c = {'Name': ['Abhishek', 'Anvit', 'Shrasti'],\n",
    "     'Age': [31, 2, 30]\n",
    "    }\n",
    "df3 = pd.DataFrame(c)\n",
    "\n",
    "#list of dictionaries\n",
    "d = [{'Name': 'Abhishek', 'Age': 31}, {'Name': 'Akash', 'Age': 24}]\n",
    "df4 = pd.DataFrame(d)\n",
    "df4"
   ]
  },
  {
   "cell_type": "code",
   "execution_count": 35,
   "metadata": {},
   "outputs": [
    {
     "name": "stdout",
     "output_type": "stream",
     "text": [
      "<class 'pandas.core.frame.DataFrame'>\n",
      "RangeIndex: 2 entries, 0 to 1\n",
      "Data columns (total 2 columns):\n",
      " #   Column  Non-Null Count  Dtype \n",
      "---  ------  --------------  ----- \n",
      " 0   Name    2 non-null      object\n",
      " 1   Age     2 non-null      int64 \n",
      "dtypes: int64(1), object(1)\n",
      "memory usage: 160.0+ bytes\n"
     ]
    }
   ],
   "source": [
    "df4.info()"
   ]
  },
  {
   "cell_type": "code",
   "execution_count": 52,
   "metadata": {},
   "outputs": [],
   "source": [
    "df_new = pd.DataFrame({'Name': ['Abhishek','Anvit','SHrasti'],\n",
    "                      'Age': [31, 2,30],\n",
    "                      'DOB': ['1989/08/01', '2019/03/30', '1990/10/16'],\n",
    "                      'Gender': ['M', 'M', 'F'],\n",
    "                      'Salaried' : [True, False, True]}\n",
    "                     )"
   ]
  },
  {
   "cell_type": "code",
   "execution_count": 53,
   "metadata": {},
   "outputs": [],
   "source": [
    "df_new['DOB2'] = pd.to_datetime(df_new['DOB'], format = '%Y/%m/%d')\n",
    "df_new['Gender2'] = df_new['Gender'].astype('category')"
   ]
  },
  {
   "cell_type": "code",
   "execution_count": 54,
   "metadata": {},
   "outputs": [
    {
     "name": "stdout",
     "output_type": "stream",
     "text": [
      "<class 'pandas.core.frame.DataFrame'>\n",
      "RangeIndex: 3 entries, 0 to 2\n",
      "Data columns (total 7 columns):\n",
      " #   Column    Non-Null Count  Dtype         \n",
      "---  ------    --------------  -----         \n",
      " 0   Name      3 non-null      object        \n",
      " 1   Age       3 non-null      int64         \n",
      " 2   DOB       3 non-null      object        \n",
      " 3   Gender    3 non-null      object        \n",
      " 4   Salaried  3 non-null      bool          \n",
      " 5   DOB2      3 non-null      datetime64[ns]\n",
      " 6   Gender2   3 non-null      category      \n",
      "dtypes: bool(1), category(1), datetime64[ns](1), int64(1), object(3)\n",
      "memory usage: 350.0+ bytes\n"
     ]
    }
   ],
   "source": [
    "df_new.info()"
   ]
  },
  {
   "cell_type": "code",
   "execution_count": 56,
   "metadata": {},
   "outputs": [
    {
     "name": "stdout",
     "output_type": "stream",
     "text": [
      "Help on function explode in module pandas.core.frame:\n",
      "\n",
      "explode(self, column: Union[str, Tuple], ignore_index: bool = False) -> 'DataFrame'\n",
      "    Transform each element of a list-like to a row, replicating index values.\n",
      "    \n",
      "    .. versionadded:: 0.25.0\n",
      "    \n",
      "    Parameters\n",
      "    ----------\n",
      "    column : str or tuple\n",
      "        Column to explode.\n",
      "    ignore_index : bool, default False\n",
      "        If True, the resulting index will be labeled 0, 1, …, n - 1.\n",
      "    \n",
      "        .. versionadded:: 1.1.0\n",
      "    \n",
      "    Returns\n",
      "    -------\n",
      "    DataFrame\n",
      "        Exploded lists to rows of the subset columns;\n",
      "        index will be duplicated for these rows.\n",
      "    \n",
      "    Raises\n",
      "    ------\n",
      "    ValueError :\n",
      "        if columns of the frame are not unique.\n",
      "    \n",
      "    See Also\n",
      "    --------\n",
      "    DataFrame.unstack : Pivot a level of the (necessarily hierarchical)\n",
      "        index labels.\n",
      "    DataFrame.melt : Unpivot a DataFrame from wide format to long format.\n",
      "    Series.explode : Explode a DataFrame from list-like columns to long format.\n",
      "    \n",
      "    Notes\n",
      "    -----\n",
      "    This routine will explode list-likes including lists, tuples,\n",
      "    Series, and np.ndarray. The result dtype of the subset rows will\n",
      "    be object. Scalars will be returned unchanged. Empty list-likes will\n",
      "    result in a np.nan for that row.\n",
      "    \n",
      "    Examples\n",
      "    --------\n",
      "    >>> df = pd.DataFrame({'A': [[1, 2, 3], 'foo', [], [3, 4]], 'B': 1})\n",
      "    >>> df\n",
      "               A  B\n",
      "    0  [1, 2, 3]  1\n",
      "    1        foo  1\n",
      "    2         []  1\n",
      "    3     [3, 4]  1\n",
      "    \n",
      "    >>> df.explode('A')\n",
      "         A  B\n",
      "    0    1  1\n",
      "    0    2  1\n",
      "    0    3  1\n",
      "    1  foo  1\n",
      "    2  NaN  1\n",
      "    3    3  1\n",
      "    3    4  1\n",
      "\n"
     ]
    }
   ],
   "source": [
    "help(pd.DataFrame.explode)"
   ]
  },
  {
   "cell_type": "code",
   "execution_count": null,
   "metadata": {},
   "outputs": [],
   "source": []
  }
 ],
 "metadata": {
  "kernelspec": {
   "display_name": "Python 3",
   "language": "python",
   "name": "python3"
  },
  "language_info": {
   "codemirror_mode": {
    "name": "ipython",
    "version": 3
   },
   "file_extension": ".py",
   "mimetype": "text/x-python",
   "name": "python",
   "nbconvert_exporter": "python",
   "pygments_lexer": "ipython3",
   "version": "3.7.1"
  }
 },
 "nbformat": 4,
 "nbformat_minor": 2
}
