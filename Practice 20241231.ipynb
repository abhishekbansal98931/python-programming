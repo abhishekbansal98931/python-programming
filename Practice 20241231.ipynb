{
 "cells": [
  {
   "cell_type": "code",
   "execution_count": 4,
   "id": "64e8d938",
   "metadata": {},
   "outputs": [],
   "source": [
    "import numpy as np\n",
    "import pandas as pd\n",
    "import matplotlib.pyplot as plt\n",
    "import os"
   ]
  },
  {
   "cell_type": "code",
   "execution_count": 63,
   "id": "95806aaf",
   "metadata": {},
   "outputs": [],
   "source": [
    "?pd.crosstab\n",
    "?pd.concat"
   ]
  },
  {
   "cell_type": "code",
   "execution_count": 5,
   "id": "1a987813",
   "metadata": {},
   "outputs": [],
   "source": [
    "df = pd.DataFrame({\n",
    "    \"country\": ['India', 'India', 'India', 'India', 'Australia', 'Australia', 'Australia', 'SA', 'SA', 'India', 'India'],\n",
    "    \"state\" : ['MP', 'MP', 'MP', 'UP', 'NSW', 'NSW', 'Victoria', 'Gauteng', 'Western Cape', 'Delhi','UP'],\n",
    "    \"city\": ['Indore', 'Bhopal', 'Jabalpur', 'Lucknow', 'Sydney', 'Newcastle', 'Melbourne', 'Johannesburg', 'Cape Town', 'Delhi', 'Noida'],\n",
    "    \"sales\": [150, 200, 100, 100, 200, 250, 300, 300, 200, 100, 50]\n",
    "})"
   ]
  },
  {
   "cell_type": "code",
   "execution_count": 86,
   "id": "e1eddf9b",
   "metadata": {},
   "outputs": [],
   "source": [
    "?df.rank"
   ]
  },
  {
   "cell_type": "code",
   "execution_count": 100,
   "id": "427dc911",
   "metadata": {},
   "outputs": [
    {
     "data": {
      "text/plain": [
       "array([1, 3, 5, 7, 9])"
      ]
     },
     "execution_count": 100,
     "metadata": {},
     "output_type": "execute_result"
    }
   ],
   "source": [
    "np.arange(1,10,2)"
   ]
  },
  {
   "cell_type": "code",
   "execution_count": 118,
   "id": "b571f446",
   "metadata": {},
   "outputs": [
    {
     "data": {
      "text/html": [
       "<div>\n",
       "<style scoped>\n",
       "    .dataframe tbody tr th:only-of-type {\n",
       "        vertical-align: middle;\n",
       "    }\n",
       "\n",
       "    .dataframe tbody tr th {\n",
       "        vertical-align: top;\n",
       "    }\n",
       "\n",
       "    .dataframe thead th {\n",
       "        text-align: right;\n",
       "    }\n",
       "</style>\n",
       "<table border=\"1\" class=\"dataframe\">\n",
       "  <thead>\n",
       "    <tr style=\"text-align: right;\">\n",
       "      <th></th>\n",
       "      <th>sales</th>\n",
       "      <th>rank</th>\n",
       "      <th>sales2</th>\n",
       "    </tr>\n",
       "  </thead>\n",
       "  <tbody>\n",
       "    <tr>\n",
       "      <th>count</th>\n",
       "      <td>11.000000</td>\n",
       "      <td>11.000000</td>\n",
       "      <td>11.000000</td>\n",
       "    </tr>\n",
       "    <tr>\n",
       "      <th>mean</th>\n",
       "      <td>177.272727</td>\n",
       "      <td>2.272727</td>\n",
       "      <td>88.636364</td>\n",
       "    </tr>\n",
       "    <tr>\n",
       "      <th>std</th>\n",
       "      <td>84.745609</td>\n",
       "      <td>1.009050</td>\n",
       "      <td>42.372804</td>\n",
       "    </tr>\n",
       "    <tr>\n",
       "      <th>min</th>\n",
       "      <td>50.000000</td>\n",
       "      <td>1.000000</td>\n",
       "      <td>25.000000</td>\n",
       "    </tr>\n",
       "    <tr>\n",
       "      <th>25%</th>\n",
       "      <td>100.000000</td>\n",
       "      <td>1.500000</td>\n",
       "      <td>50.000000</td>\n",
       "    </tr>\n",
       "    <tr>\n",
       "      <th>50%</th>\n",
       "      <td>200.000000</td>\n",
       "      <td>2.000000</td>\n",
       "      <td>100.000000</td>\n",
       "    </tr>\n",
       "    <tr>\n",
       "      <th>75%</th>\n",
       "      <td>225.000000</td>\n",
       "      <td>3.000000</td>\n",
       "      <td>112.500000</td>\n",
       "    </tr>\n",
       "    <tr>\n",
       "      <th>max</th>\n",
       "      <td>300.000000</td>\n",
       "      <td>4.000000</td>\n",
       "      <td>150.000000</td>\n",
       "    </tr>\n",
       "  </tbody>\n",
       "</table>\n",
       "</div>"
      ],
      "text/plain": [
       "            sales       rank      sales2\n",
       "count   11.000000  11.000000   11.000000\n",
       "mean   177.272727   2.272727   88.636364\n",
       "std     84.745609   1.009050   42.372804\n",
       "min     50.000000   1.000000   25.000000\n",
       "25%    100.000000   1.500000   50.000000\n",
       "50%    200.000000   2.000000  100.000000\n",
       "75%    225.000000   3.000000  112.500000\n",
       "max    300.000000   4.000000  150.000000"
      ]
     },
     "execution_count": 118,
     "metadata": {},
     "output_type": "execute_result"
    }
   ],
   "source": [
    "df[['sales','rank','sales2']].describe()"
   ]
  },
  {
   "cell_type": "code",
   "execution_count": 119,
   "id": "5cc1c3bf",
   "metadata": {},
   "outputs": [],
   "source": [
    "df1 = df[['sales','rank','sales2']]"
   ]
  },
  {
   "cell_type": "code",
   "execution_count": 190,
   "id": "7ab970d0",
   "metadata": {},
   "outputs": [],
   "source": [
    "x = ['sales','sales2','rank']\n",
    "dff = pd.DataFrame()\n",
    "for i,j in enumerate(x):\n",
    "    df2 = df1.agg({j:[sum,np.mean, len, np.std, min, max]})\n",
    "    if i == 0:\n",
    "        dff = df2\n",
    "    else:\n",
    "        dff = pd.concat([dff,df2], axis=1)\n",
    "#df1.agg({'sales':[sum,np.mean, len, np.std, min, max], 'sales2':np.mean})"
   ]
  },
  {
   "cell_type": "code",
   "execution_count": 191,
   "id": "a3591b8d",
   "metadata": {},
   "outputs": [
    {
     "data": {
      "text/html": [
       "<div>\n",
       "<style scoped>\n",
       "    .dataframe tbody tr th:only-of-type {\n",
       "        vertical-align: middle;\n",
       "    }\n",
       "\n",
       "    .dataframe tbody tr th {\n",
       "        vertical-align: top;\n",
       "    }\n",
       "\n",
       "    .dataframe thead th {\n",
       "        text-align: right;\n",
       "    }\n",
       "</style>\n",
       "<table border=\"1\" class=\"dataframe\">\n",
       "  <thead>\n",
       "    <tr style=\"text-align: right;\">\n",
       "      <th></th>\n",
       "      <th>sales</th>\n",
       "      <th>sales2</th>\n",
       "      <th>rank</th>\n",
       "    </tr>\n",
       "  </thead>\n",
       "  <tbody>\n",
       "    <tr>\n",
       "      <th>sum</th>\n",
       "      <td>1950.000000</td>\n",
       "      <td>975.000000</td>\n",
       "      <td>25.000000</td>\n",
       "    </tr>\n",
       "    <tr>\n",
       "      <th>mean</th>\n",
       "      <td>177.272727</td>\n",
       "      <td>88.636364</td>\n",
       "      <td>2.272727</td>\n",
       "    </tr>\n",
       "    <tr>\n",
       "      <th>len</th>\n",
       "      <td>11.000000</td>\n",
       "      <td>11.000000</td>\n",
       "      <td>11.000000</td>\n",
       "    </tr>\n",
       "    <tr>\n",
       "      <th>std</th>\n",
       "      <td>84.745609</td>\n",
       "      <td>42.372804</td>\n",
       "      <td>1.009050</td>\n",
       "    </tr>\n",
       "    <tr>\n",
       "      <th>min</th>\n",
       "      <td>50.000000</td>\n",
       "      <td>25.000000</td>\n",
       "      <td>1.000000</td>\n",
       "    </tr>\n",
       "    <tr>\n",
       "      <th>max</th>\n",
       "      <td>300.000000</td>\n",
       "      <td>150.000000</td>\n",
       "      <td>4.000000</td>\n",
       "    </tr>\n",
       "  </tbody>\n",
       "</table>\n",
       "</div>"
      ],
      "text/plain": [
       "            sales      sales2       rank\n",
       "sum   1950.000000  975.000000  25.000000\n",
       "mean   177.272727   88.636364   2.272727\n",
       "len     11.000000   11.000000  11.000000\n",
       "std     84.745609   42.372804   1.009050\n",
       "min     50.000000   25.000000   1.000000\n",
       "max    300.000000  150.000000   4.000000"
      ]
     },
     "execution_count": 191,
     "metadata": {},
     "output_type": "execute_result"
    }
   ],
   "source": [
    "dff"
   ]
  },
  {
   "cell_type": "code",
   "execution_count": 250,
   "id": "2f3802b8",
   "metadata": {},
   "outputs": [
    {
     "data": {
      "text/html": [
       "<div>\n",
       "<style scoped>\n",
       "    .dataframe tbody tr th:only-of-type {\n",
       "        vertical-align: middle;\n",
       "    }\n",
       "\n",
       "    .dataframe tbody tr th {\n",
       "        vertical-align: top;\n",
       "    }\n",
       "\n",
       "    .dataframe thead th {\n",
       "        text-align: right;\n",
       "    }\n",
       "</style>\n",
       "<table border=\"1\" class=\"dataframe\">\n",
       "  <thead>\n",
       "    <tr style=\"text-align: right;\">\n",
       "      <th></th>\n",
       "      <th>country</th>\n",
       "      <th>city</th>\n",
       "      <th>sales</th>\n",
       "    </tr>\n",
       "  </thead>\n",
       "  <tbody>\n",
       "    <tr>\n",
       "      <th>0</th>\n",
       "      <td>India</td>\n",
       "      <td>Indore</td>\n",
       "      <td>150</td>\n",
       "    </tr>\n",
       "    <tr>\n",
       "      <th>1</th>\n",
       "      <td>India</td>\n",
       "      <td>Bhopal</td>\n",
       "      <td>200</td>\n",
       "    </tr>\n",
       "    <tr>\n",
       "      <th>2</th>\n",
       "      <td>India</td>\n",
       "      <td>Jabalpur</td>\n",
       "      <td>100</td>\n",
       "    </tr>\n",
       "    <tr>\n",
       "      <th>3</th>\n",
       "      <td>India</td>\n",
       "      <td>Lucknow</td>\n",
       "      <td>100</td>\n",
       "    </tr>\n",
       "    <tr>\n",
       "      <th>4</th>\n",
       "      <td>Australia</td>\n",
       "      <td>Sydney</td>\n",
       "      <td>200</td>\n",
       "    </tr>\n",
       "    <tr>\n",
       "      <th>5</th>\n",
       "      <td>Australia</td>\n",
       "      <td>Newcastle</td>\n",
       "      <td>250</td>\n",
       "    </tr>\n",
       "    <tr>\n",
       "      <th>6</th>\n",
       "      <td>Australia</td>\n",
       "      <td>Melbourne</td>\n",
       "      <td>300</td>\n",
       "    </tr>\n",
       "    <tr>\n",
       "      <th>7</th>\n",
       "      <td>SA</td>\n",
       "      <td>Johannesburg</td>\n",
       "      <td>300</td>\n",
       "    </tr>\n",
       "    <tr>\n",
       "      <th>8</th>\n",
       "      <td>SA</td>\n",
       "      <td>Cape Town</td>\n",
       "      <td>200</td>\n",
       "    </tr>\n",
       "    <tr>\n",
       "      <th>9</th>\n",
       "      <td>India</td>\n",
       "      <td>Delhi</td>\n",
       "      <td>100</td>\n",
       "    </tr>\n",
       "    <tr>\n",
       "      <th>10</th>\n",
       "      <td>India</td>\n",
       "      <td>Noida</td>\n",
       "      <td>50</td>\n",
       "    </tr>\n",
       "  </tbody>\n",
       "</table>\n",
       "</div>"
      ],
      "text/plain": [
       "      country          city  sales\n",
       "0       India        Indore    150\n",
       "1       India        Bhopal    200\n",
       "2       India      Jabalpur    100\n",
       "3       India       Lucknow    100\n",
       "4   Australia        Sydney    200\n",
       "5   Australia     Newcastle    250\n",
       "6   Australia     Melbourne    300\n",
       "7          SA  Johannesburg    300\n",
       "8          SA     Cape Town    200\n",
       "9       India         Delhi    100\n",
       "10      India         Noida     50"
      ]
     },
     "execution_count": 250,
     "metadata": {},
     "output_type": "execute_result"
    }
   ],
   "source": [
    "dfx = df[['country','city','sales']]\n",
    "dfx"
   ]
  },
  {
   "cell_type": "code",
   "execution_count": 253,
   "id": "757fb21b",
   "metadata": {},
   "outputs": [],
   "source": [
    "dfy = dfx.pivot_table(index='country',columns='city',values='sales').reset_index()"
   ]
  },
  {
   "cell_type": "code",
   "execution_count": 258,
   "id": "f497dde1",
   "metadata": {},
   "outputs": [
    {
     "data": {
      "text/html": [
       "<div>\n",
       "<style scoped>\n",
       "    .dataframe tbody tr th:only-of-type {\n",
       "        vertical-align: middle;\n",
       "    }\n",
       "\n",
       "    .dataframe tbody tr th {\n",
       "        vertical-align: top;\n",
       "    }\n",
       "\n",
       "    .dataframe thead th {\n",
       "        text-align: right;\n",
       "    }\n",
       "</style>\n",
       "<table border=\"1\" class=\"dataframe\">\n",
       "  <thead>\n",
       "    <tr style=\"text-align: right;\">\n",
       "      <th></th>\n",
       "      <th>country</th>\n",
       "      <th>city</th>\n",
       "      <th>sales</th>\n",
       "    </tr>\n",
       "  </thead>\n",
       "  <tbody>\n",
       "    <tr>\n",
       "      <th>1</th>\n",
       "      <td>India</td>\n",
       "      <td>Bhopal</td>\n",
       "      <td>200.0</td>\n",
       "    </tr>\n",
       "    <tr>\n",
       "      <th>5</th>\n",
       "      <td>SA</td>\n",
       "      <td>Cape Town</td>\n",
       "      <td>200.0</td>\n",
       "    </tr>\n",
       "    <tr>\n",
       "      <th>7</th>\n",
       "      <td>India</td>\n",
       "      <td>Delhi</td>\n",
       "      <td>100.0</td>\n",
       "    </tr>\n",
       "    <tr>\n",
       "      <th>10</th>\n",
       "      <td>India</td>\n",
       "      <td>Indore</td>\n",
       "      <td>150.0</td>\n",
       "    </tr>\n",
       "    <tr>\n",
       "      <th>13</th>\n",
       "      <td>India</td>\n",
       "      <td>Jabalpur</td>\n",
       "      <td>100.0</td>\n",
       "    </tr>\n",
       "    <tr>\n",
       "      <th>17</th>\n",
       "      <td>SA</td>\n",
       "      <td>Johannesburg</td>\n",
       "      <td>300.0</td>\n",
       "    </tr>\n",
       "    <tr>\n",
       "      <th>19</th>\n",
       "      <td>India</td>\n",
       "      <td>Lucknow</td>\n",
       "      <td>100.0</td>\n",
       "    </tr>\n",
       "    <tr>\n",
       "      <th>21</th>\n",
       "      <td>Australia</td>\n",
       "      <td>Melbourne</td>\n",
       "      <td>300.0</td>\n",
       "    </tr>\n",
       "    <tr>\n",
       "      <th>24</th>\n",
       "      <td>Australia</td>\n",
       "      <td>Newcastle</td>\n",
       "      <td>250.0</td>\n",
       "    </tr>\n",
       "    <tr>\n",
       "      <th>28</th>\n",
       "      <td>India</td>\n",
       "      <td>Noida</td>\n",
       "      <td>50.0</td>\n",
       "    </tr>\n",
       "    <tr>\n",
       "      <th>30</th>\n",
       "      <td>Australia</td>\n",
       "      <td>Sydney</td>\n",
       "      <td>200.0</td>\n",
       "    </tr>\n",
       "  </tbody>\n",
       "</table>\n",
       "</div>"
      ],
      "text/plain": [
       "      country          city  sales\n",
       "1       India        Bhopal  200.0\n",
       "5          SA     Cape Town  200.0\n",
       "7       India         Delhi  100.0\n",
       "10      India        Indore  150.0\n",
       "13      India      Jabalpur  100.0\n",
       "17         SA  Johannesburg  300.0\n",
       "19      India       Lucknow  100.0\n",
       "21  Australia     Melbourne  300.0\n",
       "24  Australia     Newcastle  250.0\n",
       "28      India         Noida   50.0\n",
       "30  Australia        Sydney  200.0"
      ]
     },
     "execution_count": 258,
     "metadata": {},
     "output_type": "execute_result"
    }
   ],
   "source": [
    "dfy.melt(id_vars='country',value_vars=['Bhopal', 'Cape Town', 'Delhi', 'Indore', 'Jabalpur','Johannesburg', 'Lucknow', \n",
    "    'Melbourne', 'Newcastle', 'Noida', 'Sydney'], var_name='city',value_name='sales').dropna()"
   ]
  },
  {
   "cell_type": "code",
   "execution_count": 256,
   "id": "4f0cc74d",
   "metadata": {},
   "outputs": [
    {
     "data": {
      "text/plain": [
       "Index(['country', 'Bhopal', 'Cape Town', 'Delhi', 'Indore', 'Jabalpur',\n",
       "       'Johannesburg', 'Lucknow', 'Melbourne', 'Newcastle', 'Noida', 'Sydney'],\n",
       "      dtype='object', name='city')"
      ]
     },
     "execution_count": 256,
     "metadata": {},
     "output_type": "execute_result"
    }
   ],
   "source": [
    "dfy.columns"
   ]
  },
  {
   "cell_type": "code",
   "execution_count": 260,
   "id": "f8a0dee5",
   "metadata": {},
   "outputs": [],
   "source": [
    "y = df.pop('test')"
   ]
  },
  {
   "cell_type": "code",
   "execution_count": 263,
   "id": "f3ac78cb",
   "metadata": {},
   "outputs": [
    {
     "data": {
      "text/plain": [
       "array([['India', 'MP', 'Indore', 150, 2.0, 75.0],\n",
       "       ['India', 'MP', 'Bhopal', 200, 1.0, 100.0],\n",
       "       ['India', 'MP', 'Jabalpur', 100, 3.0, 50.0],\n",
       "       ['India', 'UP', 'Lucknow', 100, 3.0, 50.0],\n",
       "       ['Australia', 'NSW', 'Sydney', 200, 3.0, 100.0],\n",
       "       ['Australia', 'NSW', 'Newcastle', 250, 2.0, 125.0],\n",
       "       ['Australia', 'Victoria', 'Melbourne', 300, 1.0, 150.0],\n",
       "       ['SA', 'Gauteng', 'Johannesburg', 300, 1.0, 150.0],\n",
       "       ['SA', 'Western Cape', 'Cape Town', 200, 2.0, 100.0],\n",
       "       ['India', 'Delhi', 'Delhi', 100, 3.0, 50.0],\n",
       "       ['India', 'UP', 'Noida', 50, 4.0, 25.0]], dtype=object)"
      ]
     },
     "execution_count": 263,
     "metadata": {},
     "output_type": "execute_result"
    }
   ],
   "source": [
    "df.values"
   ]
  },
  {
   "cell_type": "code",
   "execution_count": 264,
   "id": "89f10782",
   "metadata": {},
   "outputs": [
    {
     "data": {
      "text/plain": [
       "{'a': 5, 'b': 6}"
      ]
     },
     "execution_count": 264,
     "metadata": {},
     "output_type": "execute_result"
    }
   ],
   "source": [
    "dict(a=5,b=6)"
   ]
  },
  {
   "cell_type": "code",
   "execution_count": 265,
   "id": "b99f0437",
   "metadata": {},
   "outputs": [
    {
     "data": {
      "text/plain": [
       "6"
      ]
     },
     "execution_count": 265,
     "metadata": {},
     "output_type": "execute_result"
    }
   ],
   "source": [
    "round(6.5)"
   ]
  },
  {
   "cell_type": "code",
   "execution_count": 266,
   "id": "704ae1b8",
   "metadata": {},
   "outputs": [
    {
     "data": {
      "text/plain": [
       "8"
      ]
     },
     "execution_count": 266,
     "metadata": {},
     "output_type": "execute_result"
    }
   ],
   "source": [
    "round(7.5)"
   ]
  },
  {
   "cell_type": "code",
   "execution_count": 8,
   "id": "36a80fbd",
   "metadata": {},
   "outputs": [
    {
     "data": {
      "text/html": [
       "<div>\n",
       "<style scoped>\n",
       "    .dataframe tbody tr th:only-of-type {\n",
       "        vertical-align: middle;\n",
       "    }\n",
       "\n",
       "    .dataframe tbody tr th {\n",
       "        vertical-align: top;\n",
       "    }\n",
       "\n",
       "    .dataframe thead th {\n",
       "        text-align: right;\n",
       "    }\n",
       "</style>\n",
       "<table border=\"1\" class=\"dataframe\">\n",
       "  <thead>\n",
       "    <tr style=\"text-align: right;\">\n",
       "      <th></th>\n",
       "      <th>country</th>\n",
       "      <th>state</th>\n",
       "      <th>city</th>\n",
       "      <th>sales</th>\n",
       "    </tr>\n",
       "  </thead>\n",
       "  <tbody>\n",
       "    <tr>\n",
       "      <th>0</th>\n",
       "      <td>India</td>\n",
       "      <td>MP</td>\n",
       "      <td>Indore</td>\n",
       "      <td>150</td>\n",
       "    </tr>\n",
       "    <tr>\n",
       "      <th>1</th>\n",
       "      <td>India</td>\n",
       "      <td>MP</td>\n",
       "      <td>Bhopal</td>\n",
       "      <td>200</td>\n",
       "    </tr>\n",
       "    <tr>\n",
       "      <th>2</th>\n",
       "      <td>India</td>\n",
       "      <td>MP</td>\n",
       "      <td>Jabalpur</td>\n",
       "      <td>100</td>\n",
       "    </tr>\n",
       "    <tr>\n",
       "      <th>3</th>\n",
       "      <td>India</td>\n",
       "      <td>UP</td>\n",
       "      <td>Lucknow</td>\n",
       "      <td>100</td>\n",
       "    </tr>\n",
       "    <tr>\n",
       "      <th>4</th>\n",
       "      <td>Australia</td>\n",
       "      <td>NSW</td>\n",
       "      <td>Sydney</td>\n",
       "      <td>200</td>\n",
       "    </tr>\n",
       "    <tr>\n",
       "      <th>5</th>\n",
       "      <td>Australia</td>\n",
       "      <td>NSW</td>\n",
       "      <td>Newcastle</td>\n",
       "      <td>250</td>\n",
       "    </tr>\n",
       "    <tr>\n",
       "      <th>6</th>\n",
       "      <td>Australia</td>\n",
       "      <td>Victoria</td>\n",
       "      <td>Melbourne</td>\n",
       "      <td>300</td>\n",
       "    </tr>\n",
       "    <tr>\n",
       "      <th>7</th>\n",
       "      <td>SA</td>\n",
       "      <td>Gauteng</td>\n",
       "      <td>Johannesburg</td>\n",
       "      <td>300</td>\n",
       "    </tr>\n",
       "    <tr>\n",
       "      <th>8</th>\n",
       "      <td>SA</td>\n",
       "      <td>Western Cape</td>\n",
       "      <td>Cape Town</td>\n",
       "      <td>200</td>\n",
       "    </tr>\n",
       "    <tr>\n",
       "      <th>9</th>\n",
       "      <td>India</td>\n",
       "      <td>Delhi</td>\n",
       "      <td>Delhi</td>\n",
       "      <td>100</td>\n",
       "    </tr>\n",
       "    <tr>\n",
       "      <th>10</th>\n",
       "      <td>India</td>\n",
       "      <td>UP</td>\n",
       "      <td>Noida</td>\n",
       "      <td>50</td>\n",
       "    </tr>\n",
       "  </tbody>\n",
       "</table>\n",
       "</div>"
      ],
      "text/plain": [
       "      country         state          city  sales\n",
       "0       India            MP        Indore    150\n",
       "1       India            MP        Bhopal    200\n",
       "2       India            MP      Jabalpur    100\n",
       "3       India            UP       Lucknow    100\n",
       "4   Australia           NSW        Sydney    200\n",
       "5   Australia           NSW     Newcastle    250\n",
       "6   Australia      Victoria     Melbourne    300\n",
       "7          SA       Gauteng  Johannesburg    300\n",
       "8          SA  Western Cape     Cape Town    200\n",
       "9       India         Delhi         Delhi    100\n",
       "10      India            UP         Noida     50"
      ]
     },
     "execution_count": 8,
     "metadata": {},
     "output_type": "execute_result"
    }
   ],
   "source": [
    "df"
   ]
  },
  {
   "cell_type": "code",
   "execution_count": 12,
   "id": "16313c62",
   "metadata": {},
   "outputs": [
    {
     "data": {
      "text/html": [
       "<div>\n",
       "<style scoped>\n",
       "    .dataframe tbody tr th:only-of-type {\n",
       "        vertical-align: middle;\n",
       "    }\n",
       "\n",
       "    .dataframe tbody tr th {\n",
       "        vertical-align: top;\n",
       "    }\n",
       "\n",
       "    .dataframe thead th {\n",
       "        text-align: right;\n",
       "    }\n",
       "</style>\n",
       "<table border=\"1\" class=\"dataframe\">\n",
       "  <thead>\n",
       "    <tr style=\"text-align: right;\">\n",
       "      <th></th>\n",
       "      <th>country</th>\n",
       "      <th>state</th>\n",
       "      <th>city</th>\n",
       "      <th>sales</th>\n",
       "    </tr>\n",
       "  </thead>\n",
       "  <tbody>\n",
       "    <tr>\n",
       "      <th>4</th>\n",
       "      <td>Australia</td>\n",
       "      <td>NSW</td>\n",
       "      <td>Sydney</td>\n",
       "      <td>200</td>\n",
       "    </tr>\n",
       "    <tr>\n",
       "      <th>5</th>\n",
       "      <td>Australia</td>\n",
       "      <td>NSW</td>\n",
       "      <td>Newcastle</td>\n",
       "      <td>250</td>\n",
       "    </tr>\n",
       "    <tr>\n",
       "      <th>6</th>\n",
       "      <td>Australia</td>\n",
       "      <td>Victoria</td>\n",
       "      <td>Melbourne</td>\n",
       "      <td>300</td>\n",
       "    </tr>\n",
       "    <tr>\n",
       "      <th>7</th>\n",
       "      <td>SA</td>\n",
       "      <td>Gauteng</td>\n",
       "      <td>Johannesburg</td>\n",
       "      <td>300</td>\n",
       "    </tr>\n",
       "    <tr>\n",
       "      <th>8</th>\n",
       "      <td>SA</td>\n",
       "      <td>Western Cape</td>\n",
       "      <td>Cape Town</td>\n",
       "      <td>200</td>\n",
       "    </tr>\n",
       "  </tbody>\n",
       "</table>\n",
       "</div>"
      ],
      "text/plain": [
       "     country         state          city  sales\n",
       "4  Australia           NSW        Sydney    200\n",
       "5  Australia           NSW     Newcastle    250\n",
       "6  Australia      Victoria     Melbourne    300\n",
       "7         SA       Gauteng  Johannesburg    300\n",
       "8         SA  Western Cape     Cape Town    200"
      ]
     },
     "execution_count": 12,
     "metadata": {},
     "output_type": "execute_result"
    }
   ],
   "source": [
    "df.groupby(['country']).filter(lambda x: x['sales'].mean() > 200)"
   ]
  },
  {
   "cell_type": "code",
   "execution_count": 13,
   "id": "197769f9",
   "metadata": {},
   "outputs": [],
   "source": [
    "a = pd.DataFrame({\"name\": ['Abhishek', 'Shrasti', 'Anvit']\n",
    "                  ,\"physics\": [99, np.NaN, 95]\n",
    "                  ,\"maths\": [100, 60, 99] })"
   ]
  },
  {
   "cell_type": "code",
   "execution_count": 24,
   "id": "31b4a19f",
   "metadata": {},
   "outputs": [
    {
     "data": {
      "text/html": [
       "<div>\n",
       "<style scoped>\n",
       "    .dataframe tbody tr th:only-of-type {\n",
       "        vertical-align: middle;\n",
       "    }\n",
       "\n",
       "    .dataframe tbody tr th {\n",
       "        vertical-align: top;\n",
       "    }\n",
       "\n",
       "    .dataframe thead th {\n",
       "        text-align: right;\n",
       "    }\n",
       "</style>\n",
       "<table border=\"1\" class=\"dataframe\">\n",
       "  <thead>\n",
       "    <tr style=\"text-align: right;\">\n",
       "      <th></th>\n",
       "      <th>name</th>\n",
       "      <th>physics</th>\n",
       "      <th>maths</th>\n",
       "    </tr>\n",
       "  </thead>\n",
       "  <tbody>\n",
       "    <tr>\n",
       "      <th>1</th>\n",
       "      <td>Shrasti</td>\n",
       "      <td>NaN</td>\n",
       "      <td>60</td>\n",
       "    </tr>\n",
       "  </tbody>\n",
       "</table>\n",
       "</div>"
      ],
      "text/plain": [
       "      name  physics  maths\n",
       "1  Shrasti      NaN     60"
      ]
     },
     "execution_count": 24,
     "metadata": {},
     "output_type": "execute_result"
    }
   ],
   "source": [
    "a[a.isnull().any(axis=1)]"
   ]
  },
  {
   "cell_type": "code",
   "execution_count": 64,
   "id": "d26cf024",
   "metadata": {},
   "outputs": [
    {
     "data": {
      "text/html": [
       "<div>\n",
       "<style scoped>\n",
       "    .dataframe tbody tr th:only-of-type {\n",
       "        vertical-align: middle;\n",
       "    }\n",
       "\n",
       "    .dataframe tbody tr th {\n",
       "        vertical-align: top;\n",
       "    }\n",
       "\n",
       "    .dataframe thead th {\n",
       "        text-align: right;\n",
       "    }\n",
       "</style>\n",
       "<table border=\"1\" class=\"dataframe\">\n",
       "  <thead>\n",
       "    <tr style=\"text-align: right;\">\n",
       "      <th></th>\n",
       "      <th>index</th>\n",
       "      <th>value</th>\n",
       "    </tr>\n",
       "  </thead>\n",
       "  <tbody>\n",
       "    <tr>\n",
       "      <th>1</th>\n",
       "      <td>physics</td>\n",
       "      <td>1</td>\n",
       "    </tr>\n",
       "  </tbody>\n",
       "</table>\n",
       "</div>"
      ],
      "text/plain": [
       "     index  value\n",
       "1  physics      1"
      ]
     },
     "execution_count": 64,
     "metadata": {},
     "output_type": "execute_result"
    }
   ],
   "source": [
    "b = pd.DataFrame(a.isnull().sum()).reset_index()\n",
    "b.columns = ['index','value']\n",
    "b[b.value > 0]"
   ]
  },
  {
   "cell_type": "code",
   "execution_count": 69,
   "id": "69edb6a3",
   "metadata": {},
   "outputs": [
    {
     "data": {
      "text/html": [
       "<div>\n",
       "<style scoped>\n",
       "    .dataframe tbody tr th:only-of-type {\n",
       "        vertical-align: middle;\n",
       "    }\n",
       "\n",
       "    .dataframe tbody tr th {\n",
       "        vertical-align: top;\n",
       "    }\n",
       "\n",
       "    .dataframe thead th {\n",
       "        text-align: right;\n",
       "    }\n",
       "</style>\n",
       "<table border=\"1\" class=\"dataframe\">\n",
       "  <thead>\n",
       "    <tr style=\"text-align: right;\">\n",
       "      <th></th>\n",
       "      <th>name</th>\n",
       "      <th>physics</th>\n",
       "      <th>maths</th>\n",
       "    </tr>\n",
       "  </thead>\n",
       "  <tbody>\n",
       "    <tr>\n",
       "      <th>1</th>\n",
       "      <td>Shrasti</td>\n",
       "      <td>NaN</td>\n",
       "      <td>60</td>\n",
       "    </tr>\n",
       "  </tbody>\n",
       "</table>\n",
       "</div>"
      ],
      "text/plain": [
       "      name  physics  maths\n",
       "1  Shrasti      NaN     60"
      ]
     },
     "execution_count": 69,
     "metadata": {},
     "output_type": "execute_result"
    }
   ],
   "source": [
    "a[a.isnull().any(axis=1)]"
   ]
  },
  {
   "cell_type": "code",
   "execution_count": 81,
   "id": "e0048d62",
   "metadata": {},
   "outputs": [
    {
     "data": {
      "text/plain": [
       "name       False\n",
       "physics     True\n",
       "maths      False\n",
       "dtype: bool"
      ]
     },
     "execution_count": 81,
     "metadata": {},
     "output_type": "execute_result"
    }
   ],
   "source": [
    "a.isnull().sum() > 0"
   ]
  },
  {
   "cell_type": "code",
   "execution_count": 73,
   "id": "6802d448",
   "metadata": {},
   "outputs": [],
   "source": [
    "?pd.DataFrame.sort_values"
   ]
  },
  {
   "cell_type": "code",
   "execution_count": 84,
   "id": "2193ff84",
   "metadata": {},
   "outputs": [
    {
     "data": {
      "text/plain": [
       "Index(['physics'], dtype='object')"
      ]
     },
     "execution_count": 84,
     "metadata": {},
     "output_type": "execute_result"
    }
   ],
   "source": [
    "a.columns[a.isnull().sum() > 0]"
   ]
  },
  {
   "cell_type": "code",
   "execution_count": 2,
   "id": "e6ffcf60",
   "metadata": {},
   "outputs": [
    {
     "data": {
      "text/html": [
       "<div>\n",
       "<style scoped>\n",
       "    .dataframe tbody tr th:only-of-type {\n",
       "        vertical-align: middle;\n",
       "    }\n",
       "\n",
       "    .dataframe tbody tr th {\n",
       "        vertical-align: top;\n",
       "    }\n",
       "\n",
       "    .dataframe thead th {\n",
       "        text-align: right;\n",
       "    }\n",
       "</style>\n",
       "<table border=\"1\" class=\"dataframe\">\n",
       "  <thead>\n",
       "    <tr style=\"text-align: right;\">\n",
       "      <th></th>\n",
       "      <th>movie_name</th>\n",
       "      <th>director_name</th>\n",
       "      <th>producer_name</th>\n",
       "      <th>lead_actor_name</th>\n",
       "    </tr>\n",
       "  </thead>\n",
       "  <tbody>\n",
       "    <tr>\n",
       "      <th>0</th>\n",
       "      <td>Dangal</td>\n",
       "      <td>Nitesh Tiwari</td>\n",
       "      <td>Aamir Khan</td>\n",
       "      <td>Aamir Khan</td>\n",
       "    </tr>\n",
       "    <tr>\n",
       "      <th>1</th>\n",
       "      <td>PK</td>\n",
       "      <td>Rajkumar Hirani</td>\n",
       "      <td>Vidhu Vinod Chopra</td>\n",
       "      <td>Aamir Khan</td>\n",
       "    </tr>\n",
       "    <tr>\n",
       "      <th>2</th>\n",
       "      <td>Bajrangi Bhaijaan</td>\n",
       "      <td>Kabir Khan</td>\n",
       "      <td>Salman Khan</td>\n",
       "      <td>Salman Khan</td>\n",
       "    </tr>\n",
       "    <tr>\n",
       "      <th>3</th>\n",
       "      <td>Sultan</td>\n",
       "      <td>Ali Abbas Zafar</td>\n",
       "      <td>Aditya Chopra</td>\n",
       "      <td>Salman Khan</td>\n",
       "    </tr>\n",
       "    <tr>\n",
       "      <th>4</th>\n",
       "      <td>Padmaavat</td>\n",
       "      <td>Sanjay Leela Bhansali</td>\n",
       "      <td>Sanjay Leela Bhansali</td>\n",
       "      <td>Deepika Padukone</td>\n",
       "    </tr>\n",
       "    <tr>\n",
       "      <th>5</th>\n",
       "      <td>Sanju</td>\n",
       "      <td>Rajkumar Hirani</td>\n",
       "      <td>Rajkumar Hirani</td>\n",
       "      <td>Ranbir Kapoor</td>\n",
       "    </tr>\n",
       "    <tr>\n",
       "      <th>6</th>\n",
       "      <td>Tiger Zinda Hai</td>\n",
       "      <td>Ali Abbas Zafar</td>\n",
       "      <td>Aditya Chopra</td>\n",
       "      <td>Salman Khan</td>\n",
       "    </tr>\n",
       "    <tr>\n",
       "      <th>7</th>\n",
       "      <td>Dhoom 3</td>\n",
       "      <td>Vijay Krishna Acharya</td>\n",
       "      <td>Aditya Chopra</td>\n",
       "      <td>Aamir Khan</td>\n",
       "    </tr>\n",
       "    <tr>\n",
       "      <th>8</th>\n",
       "      <td>War</td>\n",
       "      <td>Siddharth Anand</td>\n",
       "      <td>Aditya Chopra</td>\n",
       "      <td>Hrithik Roshan</td>\n",
       "    </tr>\n",
       "    <tr>\n",
       "      <th>9</th>\n",
       "      <td>3 Idiots</td>\n",
       "      <td>Rajkumar Hirani</td>\n",
       "      <td>Vidhu Vinod Chopra</td>\n",
       "      <td>Aamir Khan</td>\n",
       "    </tr>\n",
       "  </tbody>\n",
       "</table>\n",
       "</div>"
      ],
      "text/plain": [
       "          movie_name          director_name          producer_name  \\\n",
       "0             Dangal          Nitesh Tiwari             Aamir Khan   \n",
       "1                 PK        Rajkumar Hirani     Vidhu Vinod Chopra   \n",
       "2  Bajrangi Bhaijaan             Kabir Khan            Salman Khan   \n",
       "3             Sultan        Ali Abbas Zafar          Aditya Chopra   \n",
       "4          Padmaavat  Sanjay Leela Bhansali  Sanjay Leela Bhansali   \n",
       "5              Sanju        Rajkumar Hirani        Rajkumar Hirani   \n",
       "6    Tiger Zinda Hai        Ali Abbas Zafar          Aditya Chopra   \n",
       "7            Dhoom 3  Vijay Krishna Acharya          Aditya Chopra   \n",
       "8                War        Siddharth Anand          Aditya Chopra   \n",
       "9           3 Idiots        Rajkumar Hirani     Vidhu Vinod Chopra   \n",
       "\n",
       "    lead_actor_name  \n",
       "0        Aamir Khan  \n",
       "1        Aamir Khan  \n",
       "2       Salman Khan  \n",
       "3       Salman Khan  \n",
       "4  Deepika Padukone  \n",
       "5     Ranbir Kapoor  \n",
       "6       Salman Khan  \n",
       "7        Aamir Khan  \n",
       "8    Hrithik Roshan  \n",
       "9        Aamir Khan  "
      ]
     },
     "execution_count": 2,
     "metadata": {},
     "output_type": "execute_result"
    }
   ],
   "source": [
    "import pandas as pd\n",
    "\n",
    "data = {\n",
    "    'movie_name': ['Dangal', 'PK', 'Bajrangi Bhaijaan', 'Sultan', 'Padmaavat', 'Sanju', 'Tiger Zinda Hai', 'Dhoom 3', 'War', '3 Idiots'],\n",
    "    'director_name': ['Nitesh Tiwari', 'Rajkumar Hirani', 'Kabir Khan', 'Ali Abbas Zafar', 'Sanjay Leela Bhansali', 'Rajkumar Hirani', 'Ali Abbas Zafar', 'Vijay Krishna Acharya', 'Siddharth Anand', 'Rajkumar Hirani'],\n",
    "    'producer_name': ['Aamir Khan', 'Vidhu Vinod Chopra', 'Salman Khan', 'Aditya Chopra', 'Sanjay Leela Bhansali', 'Rajkumar Hirani', 'Aditya Chopra', 'Aditya Chopra', 'Aditya Chopra', 'Vidhu Vinod Chopra'],\n",
    "    'lead_actor_name': ['Aamir Khan', 'Aamir Khan', 'Salman Khan', 'Salman Khan', 'Deepika Padukone', 'Ranbir Kapoor', 'Salman Khan', 'Aamir Khan', 'Hrithik Roshan', 'Aamir Khan']\n",
    "}\n",
    "\n",
    "df = pd.DataFrame(data)\n",
    "df"
   ]
  },
  {
   "cell_type": "code",
   "execution_count": 7,
   "id": "6195c668",
   "metadata": {},
   "outputs": [
    {
     "data": {
      "text/plain": [
       "Index(['country', 'state', 'city', 'sales'], dtype='object')"
      ]
     },
     "execution_count": 7,
     "metadata": {},
     "output_type": "execute_result"
    }
   ],
   "source": [
    "df.columns"
   ]
  },
  {
   "cell_type": "code",
   "execution_count": 14,
   "id": "6778a98b",
   "metadata": {},
   "outputs": [],
   "source": [
    "def test(x: pd.DataFrame) -> pd.DataFrame:\n",
    "    y = x['country']\n",
    "    return y"
   ]
  },
  {
   "cell_type": "code",
   "execution_count": 15,
   "id": "9bc8e71e",
   "metadata": {},
   "outputs": [
    {
     "data": {
      "text/plain": [
       "0         India\n",
       "1         India\n",
       "2         India\n",
       "3         India\n",
       "4     Australia\n",
       "5     Australia\n",
       "6     Australia\n",
       "7            SA\n",
       "8            SA\n",
       "9         India\n",
       "10        India\n",
       "Name: country, dtype: object"
      ]
     },
     "execution_count": 15,
     "metadata": {},
     "output_type": "execute_result"
    }
   ],
   "source": [
    "test(df)"
   ]
  },
  {
   "cell_type": "code",
   "execution_count": 16,
   "id": "edde0eea",
   "metadata": {},
   "outputs": [
    {
     "data": {
      "text/plain": [
       "'C:\\\\Users\\\\abhbansa5\\\\OneDrive - Publicis Groupe\\\\Documents\\\\GitHub\\\\python-programming'"
      ]
     },
     "execution_count": 16,
     "metadata": {},
     "output_type": "execute_result"
    }
   ],
   "source": [
    "os.getcwd()"
   ]
  },
  {
   "cell_type": "code",
   "execution_count": 78,
   "id": "204cf2f1",
   "metadata": {},
   "outputs": [],
   "source": [
    "a = pd.read_csv(\"C:\\\\Users\\\\abhbansa5\\\\Downloads\\\\accident.csv\")"
   ]
  },
  {
   "cell_type": "code",
   "execution_count": 79,
   "id": "b2d75b51",
   "metadata": {},
   "outputs": [
    {
     "name": "stdout",
     "output_type": "stream",
     "text": [
      "<class 'pandas.core.frame.DataFrame'>\n",
      "RangeIndex: 200 entries, 0 to 199\n",
      "Data columns (total 6 columns):\n",
      " #   Column           Non-Null Count  Dtype  \n",
      "---  ------           --------------  -----  \n",
      " 0   Age              200 non-null    int64  \n",
      " 1   Gender           199 non-null    object \n",
      " 2   Speed_of_Impact  197 non-null    float64\n",
      " 3   Helmet_Used      200 non-null    object \n",
      " 4   Seatbelt_Used    200 non-null    object \n",
      " 5   Survived         200 non-null    int64  \n",
      "dtypes: float64(1), int64(2), object(3)\n",
      "memory usage: 9.5+ KB\n"
     ]
    }
   ],
   "source": [
    "a.info()"
   ]
  },
  {
   "cell_type": "code",
   "execution_count": 80,
   "id": "fbc9dd84",
   "metadata": {},
   "outputs": [
    {
     "data": {
      "text/html": [
       "<div>\n",
       "<style scoped>\n",
       "    .dataframe tbody tr th:only-of-type {\n",
       "        vertical-align: middle;\n",
       "    }\n",
       "\n",
       "    .dataframe tbody tr th {\n",
       "        vertical-align: top;\n",
       "    }\n",
       "\n",
       "    .dataframe thead th {\n",
       "        text-align: right;\n",
       "    }\n",
       "</style>\n",
       "<table border=\"1\" class=\"dataframe\">\n",
       "  <thead>\n",
       "    <tr style=\"text-align: right;\">\n",
       "      <th></th>\n",
       "      <th>Age</th>\n",
       "      <th>Gender</th>\n",
       "      <th>Speed_of_Impact</th>\n",
       "      <th>Helmet_Used</th>\n",
       "      <th>Seatbelt_Used</th>\n",
       "      <th>Survived</th>\n",
       "    </tr>\n",
       "  </thead>\n",
       "  <tbody>\n",
       "    <tr>\n",
       "      <th>15</th>\n",
       "      <td>41</td>\n",
       "      <td>Female</td>\n",
       "      <td>NaN</td>\n",
       "      <td>No</td>\n",
       "      <td>No</td>\n",
       "      <td>0</td>\n",
       "    </tr>\n",
       "    <tr>\n",
       "      <th>19</th>\n",
       "      <td>41</td>\n",
       "      <td>Male</td>\n",
       "      <td>NaN</td>\n",
       "      <td>Yes</td>\n",
       "      <td>No</td>\n",
       "      <td>1</td>\n",
       "    </tr>\n",
       "    <tr>\n",
       "      <th>29</th>\n",
       "      <td>42</td>\n",
       "      <td>Male</td>\n",
       "      <td>NaN</td>\n",
       "      <td>Yes</td>\n",
       "      <td>No</td>\n",
       "      <td>0</td>\n",
       "    </tr>\n",
       "    <tr>\n",
       "      <th>30</th>\n",
       "      <td>66</td>\n",
       "      <td>NaN</td>\n",
       "      <td>72.0</td>\n",
       "      <td>No</td>\n",
       "      <td>Yes</td>\n",
       "      <td>0</td>\n",
       "    </tr>\n",
       "  </tbody>\n",
       "</table>\n",
       "</div>"
      ],
      "text/plain": [
       "    Age  Gender  Speed_of_Impact Helmet_Used Seatbelt_Used  Survived\n",
       "15   41  Female              NaN          No            No         0\n",
       "19   41    Male              NaN         Yes            No         1\n",
       "29   42    Male              NaN         Yes            No         0\n",
       "30   66     NaN             72.0          No           Yes         0"
      ]
     },
     "execution_count": 80,
     "metadata": {},
     "output_type": "execute_result"
    }
   ],
   "source": [
    "#Rows with null values\n",
    "a[a.isna().any(axis=1)]"
   ]
  },
  {
   "cell_type": "code",
   "execution_count": 81,
   "id": "ddbf7d5b",
   "metadata": {},
   "outputs": [
    {
     "data": {
      "text/plain": [
       "Speed_of_Impact    3\n",
       "Gender             1\n",
       "Age                0\n",
       "Helmet_Used        0\n",
       "Seatbelt_Used      0\n",
       "Survived           0\n",
       "dtype: int64"
      ]
     },
     "execution_count": 81,
     "metadata": {},
     "output_type": "execute_result"
    }
   ],
   "source": [
    "#Columns with null values\n",
    "a.isna().sum().sort_values(ascending=False)"
   ]
  },
  {
   "cell_type": "code",
   "execution_count": 82,
   "id": "385146a2",
   "metadata": {},
   "outputs": [],
   "source": [
    "#Drop rows with na values\n",
    "a = a.dropna()"
   ]
  },
  {
   "cell_type": "code",
   "execution_count": 83,
   "id": "ce32a519",
   "metadata": {},
   "outputs": [
    {
     "data": {
      "text/plain": [
       "Survived\n",
       "1           100\n",
       "0            96\n",
       "dtype: int64"
      ]
     },
     "execution_count": 83,
     "metadata": {},
     "output_type": "execute_result"
    }
   ],
   "source": [
    "a[['Survived']].value_counts()"
   ]
  },
  {
   "cell_type": "code",
   "execution_count": 84,
   "id": "d2f906a9",
   "metadata": {},
   "outputs": [
    {
     "name": "stdout",
     "output_type": "stream",
     "text": [
      "<class 'pandas.core.frame.DataFrame'>\n",
      "Int64Index: 196 entries, 0 to 199\n",
      "Data columns (total 6 columns):\n",
      " #   Column           Non-Null Count  Dtype  \n",
      "---  ------           --------------  -----  \n",
      " 0   Age              196 non-null    int64  \n",
      " 1   Gender           196 non-null    object \n",
      " 2   Speed_of_Impact  196 non-null    float64\n",
      " 3   Helmet_Used      196 non-null    object \n",
      " 4   Seatbelt_Used    196 non-null    object \n",
      " 5   Survived         196 non-null    int64  \n",
      "dtypes: float64(1), int64(2), object(3)\n",
      "memory usage: 10.7+ KB\n"
     ]
    }
   ],
   "source": [
    "a.info()"
   ]
  },
  {
   "cell_type": "code",
   "execution_count": 61,
   "id": "b6dfeba8",
   "metadata": {},
   "outputs": [
    {
     "name": "stderr",
     "output_type": "stream",
     "text": [
      "C:\\Users\\abhbansa5\\AppData\\Local\\Temp\\ipykernel_19264\\3930171559.py:1: SettingWithCopyWarning: \n",
      "A value is trying to be set on a copy of a slice from a DataFrame.\n",
      "Try using .loc[row_indexer,col_indexer] = value instead\n",
      "\n",
      "See the caveats in the documentation: https://pandas.pydata.org/pandas-docs/stable/user_guide/indexing.html#returning-a-view-versus-a-copy\n",
      "  a[a.select_dtypes(['object']).columns] = a.select_dtypes(['object']).apply(lambda x: x.astype('category'))\n"
     ]
    }
   ],
   "source": [
    "#a[a.select_dtypes(['object']).columns] = a.select_dtypes(['object']).apply(lambda x: x.astype('category'))\n",
    "#OR\n",
    "#a[['Gender','Helmet_Used','Seatbelt_Used']] = a[['Gender','Helmet_Used','Seatbelt_Used']].astype('category')"
   ]
  },
  {
   "cell_type": "code",
   "execution_count": 71,
   "id": "708d7409",
   "metadata": {},
   "outputs": [
    {
     "data": {
      "text/plain": [
       "Index(['Female', 'Male'], dtype='object')"
      ]
     },
     "execution_count": 71,
     "metadata": {},
     "output_type": "execute_result"
    }
   ],
   "source": [
    "#a.Gender.cat.categories"
   ]
  },
  {
   "cell_type": "code",
   "execution_count": 85,
   "id": "a8163f6e",
   "metadata": {},
   "outputs": [],
   "source": [
    "from sklearn.preprocessing import OrdinalEncoder"
   ]
  },
  {
   "cell_type": "code",
   "execution_count": 86,
   "id": "3ba917eb",
   "metadata": {},
   "outputs": [],
   "source": [
    "from sklearn.model_selection import train_test_split\n",
    "X_train, X_test, y_train, y_test = train_test_split(a.loc[:,a.columns != \"Survived\"], a.Survived, train_size=0.8, stratify=a.Survived)"
   ]
  },
  {
   "cell_type": "code",
   "execution_count": 87,
   "id": "d9bbce7e",
   "metadata": {},
   "outputs": [
    {
     "name": "stdout",
     "output_type": "stream",
     "text": [
      "<class 'pandas.core.frame.DataFrame'>\n",
      "Int64Index: 156 entries, 46 to 75\n",
      "Data columns (total 5 columns):\n",
      " #   Column           Non-Null Count  Dtype  \n",
      "---  ------           --------------  -----  \n",
      " 0   Age              156 non-null    int64  \n",
      " 1   Gender           156 non-null    object \n",
      " 2   Speed_of_Impact  156 non-null    float64\n",
      " 3   Helmet_Used      156 non-null    object \n",
      " 4   Seatbelt_Used    156 non-null    object \n",
      "dtypes: float64(1), int64(1), object(3)\n",
      "memory usage: 7.3+ KB\n"
     ]
    }
   ],
   "source": [
    "X_train.info()"
   ]
  },
  {
   "cell_type": "code",
   "execution_count": 88,
   "id": "2b3d6bbc",
   "metadata": {},
   "outputs": [],
   "source": [
    "encoder = OrdinalEncoder()\n",
    "encoder.fit(X_train[[\"Gender\",\"Helmet_Used\",\"Seatbelt_Used\"]])\n",
    "X_train_encoded = encoder.transform(X_train[[\"Gender\",\"Helmet_Used\",\"Seatbelt_Used\"]])\n",
    "X_test_encoded = encoder.transform(X_test[[\"Gender\",\"Helmet_Used\",\"Seatbelt_Used\"]])"
   ]
  },
  {
   "cell_type": "code",
   "execution_count": 116,
   "id": "f6a9083d",
   "metadata": {},
   "outputs": [],
   "source": [
    "X_train_new = pd.concat([X_train.reset_index(drop=True), pd.DataFrame(X_train_encoded, columns=['gener_enc','helmet_enc','seatbelt_enc'])], axis=1)"
   ]
  },
  {
   "cell_type": "code",
   "execution_count": 134,
   "id": "52856484",
   "metadata": {},
   "outputs": [
    {
     "data": {
      "text/html": [
       "<div>\n",
       "<style scoped>\n",
       "    .dataframe tbody tr th:only-of-type {\n",
       "        vertical-align: middle;\n",
       "    }\n",
       "\n",
       "    .dataframe tbody tr th {\n",
       "        vertical-align: top;\n",
       "    }\n",
       "\n",
       "    .dataframe thead th {\n",
       "        text-align: right;\n",
       "    }\n",
       "</style>\n",
       "<table border=\"1\" class=\"dataframe\">\n",
       "  <thead>\n",
       "    <tr style=\"text-align: right;\">\n",
       "      <th></th>\n",
       "      <th>Age</th>\n",
       "      <th>Speed_of_Impact</th>\n",
       "      <th>gener_enc</th>\n",
       "      <th>helmet_enc</th>\n",
       "      <th>seatbelt_enc</th>\n",
       "    </tr>\n",
       "  </thead>\n",
       "  <tbody>\n",
       "    <tr>\n",
       "      <th>0</th>\n",
       "      <td>56</td>\n",
       "      <td>86.0</td>\n",
       "      <td>0.0</td>\n",
       "      <td>1.0</td>\n",
       "      <td>1.0</td>\n",
       "    </tr>\n",
       "    <tr>\n",
       "      <th>1</th>\n",
       "      <td>51</td>\n",
       "      <td>84.0</td>\n",
       "      <td>0.0</td>\n",
       "      <td>1.0</td>\n",
       "      <td>1.0</td>\n",
       "    </tr>\n",
       "    <tr>\n",
       "      <th>2</th>\n",
       "      <td>56</td>\n",
       "      <td>82.0</td>\n",
       "      <td>0.0</td>\n",
       "      <td>0.0</td>\n",
       "      <td>1.0</td>\n",
       "    </tr>\n",
       "    <tr>\n",
       "      <th>3</th>\n",
       "      <td>36</td>\n",
       "      <td>83.0</td>\n",
       "      <td>0.0</td>\n",
       "      <td>1.0</td>\n",
       "      <td>0.0</td>\n",
       "    </tr>\n",
       "    <tr>\n",
       "      <th>4</th>\n",
       "      <td>69</td>\n",
       "      <td>97.0</td>\n",
       "      <td>0.0</td>\n",
       "      <td>1.0</td>\n",
       "      <td>1.0</td>\n",
       "    </tr>\n",
       "    <tr>\n",
       "      <th>...</th>\n",
       "      <td>...</td>\n",
       "      <td>...</td>\n",
       "      <td>...</td>\n",
       "      <td>...</td>\n",
       "      <td>...</td>\n",
       "    </tr>\n",
       "    <tr>\n",
       "      <th>151</th>\n",
       "      <td>44</td>\n",
       "      <td>21.0</td>\n",
       "      <td>0.0</td>\n",
       "      <td>0.0</td>\n",
       "      <td>1.0</td>\n",
       "    </tr>\n",
       "    <tr>\n",
       "      <th>152</th>\n",
       "      <td>32</td>\n",
       "      <td>82.0</td>\n",
       "      <td>1.0</td>\n",
       "      <td>0.0</td>\n",
       "      <td>1.0</td>\n",
       "    </tr>\n",
       "    <tr>\n",
       "      <th>153</th>\n",
       "      <td>44</td>\n",
       "      <td>88.0</td>\n",
       "      <td>0.0</td>\n",
       "      <td>1.0</td>\n",
       "      <td>1.0</td>\n",
       "    </tr>\n",
       "    <tr>\n",
       "      <th>154</th>\n",
       "      <td>54</td>\n",
       "      <td>37.0</td>\n",
       "      <td>1.0</td>\n",
       "      <td>0.0</td>\n",
       "      <td>1.0</td>\n",
       "    </tr>\n",
       "    <tr>\n",
       "      <th>155</th>\n",
       "      <td>43</td>\n",
       "      <td>64.0</td>\n",
       "      <td>0.0</td>\n",
       "      <td>1.0</td>\n",
       "      <td>0.0</td>\n",
       "    </tr>\n",
       "  </tbody>\n",
       "</table>\n",
       "<p>156 rows × 5 columns</p>\n",
       "</div>"
      ],
      "text/plain": [
       "     Age  Speed_of_Impact  gener_enc  helmet_enc  seatbelt_enc\n",
       "0     56             86.0        0.0         1.0           1.0\n",
       "1     51             84.0        0.0         1.0           1.0\n",
       "2     56             82.0        0.0         0.0           1.0\n",
       "3     36             83.0        0.0         1.0           0.0\n",
       "4     69             97.0        0.0         1.0           1.0\n",
       "..   ...              ...        ...         ...           ...\n",
       "151   44             21.0        0.0         0.0           1.0\n",
       "152   32             82.0        1.0         0.0           1.0\n",
       "153   44             88.0        0.0         1.0           1.0\n",
       "154   54             37.0        1.0         0.0           1.0\n",
       "155   43             64.0        0.0         1.0           0.0\n",
       "\n",
       "[156 rows x 5 columns]"
      ]
     },
     "execution_count": 134,
     "metadata": {},
     "output_type": "execute_result"
    }
   ],
   "source": [
    "selected_cols = ['Age','Speed_of_Impact','gener_enc','helmet_enc','seatbelt_enc']\n",
    "X_train_new = X_train_new[selected_cols]\n",
    "X_train_new"
   ]
  },
  {
   "cell_type": "code",
   "execution_count": 136,
   "id": "1c29c365",
   "metadata": {},
   "outputs": [],
   "source": [
    "from sklearn.ensemble import RandomForestClassifier\n",
    "from sklearn.model_selection import cross_validate\n",
    "import numpy as np\n",
    "\n",
    "# Initialize with whatever parameters you want to\n",
    "clf = RandomForestClassifier()\n",
    "\n",
    "# 10-Fold Cross validation\n",
    "#np.mean(cross_val_score(clf, X_train_new, y_train, cv=10))\n",
    "output = cross_validate(clf, X_train_new, y_train, cv=2, scoring = 'accuracy', return_estimator =True)"
   ]
  },
  {
   "cell_type": "code",
   "execution_count": 138,
   "id": "92d2008f",
   "metadata": {},
   "outputs": [
    {
     "name": "stdout",
     "output_type": "stream",
     "text": [
      "Features sorted by their score for estimator 0:\n",
      "                 importance\n",
      "Speed_of_Impact    0.451326\n",
      "Age                0.389148\n",
      "seatbelt_enc       0.059406\n",
      "helmet_enc         0.057926\n",
      "gener_enc          0.042194\n",
      "Features sorted by their score for estimator 1:\n",
      "                 importance\n",
      "Age                0.421395\n",
      "Speed_of_Impact    0.351728\n",
      "seatbelt_enc       0.090183\n",
      "helmet_enc         0.075882\n",
      "gener_enc          0.060813\n"
     ]
    }
   ],
   "source": [
    "for idx,estimator in enumerate(output['estimator']):\n",
    "    print(\"Features sorted by their score for estimator {}:\".format(idx))\n",
    "    feature_importances = pd.DataFrame(estimator.feature_importances_,\n",
    "                                       index = X_train_new.columns,\n",
    "                                        columns=['importance']).sort_values('importance', ascending=False)\n",
    "    print(feature_importances)"
   ]
  },
  {
   "cell_type": "code",
   "execution_count": 91,
   "id": "8247ab2d",
   "metadata": {},
   "outputs": [],
   "source": [
    "df1 = pd.DataFrame({'A':[10,20,30],'B':[20,30,40]})\n",
    "df2 = pd.DataFrame({'C':[10,20,30],'D':[20,30,40]})"
   ]
  },
  {
   "cell_type": "code",
   "execution_count": 102,
   "id": "6ee5a2a6",
   "metadata": {},
   "outputs": [
    {
     "data": {
      "text/html": [
       "<div>\n",
       "<style scoped>\n",
       "    .dataframe tbody tr th:only-of-type {\n",
       "        vertical-align: middle;\n",
       "    }\n",
       "\n",
       "    .dataframe tbody tr th {\n",
       "        vertical-align: top;\n",
       "    }\n",
       "\n",
       "    .dataframe thead th {\n",
       "        text-align: right;\n",
       "    }\n",
       "</style>\n",
       "<table border=\"1\" class=\"dataframe\">\n",
       "  <thead>\n",
       "    <tr style=\"text-align: right;\">\n",
       "      <th></th>\n",
       "      <th>A</th>\n",
       "      <th>B</th>\n",
       "      <th>C</th>\n",
       "      <th>D</th>\n",
       "    </tr>\n",
       "  </thead>\n",
       "  <tbody>\n",
       "    <tr>\n",
       "      <th>0</th>\n",
       "      <td>10</td>\n",
       "      <td>20</td>\n",
       "      <td>10</td>\n",
       "      <td>20</td>\n",
       "    </tr>\n",
       "    <tr>\n",
       "      <th>1</th>\n",
       "      <td>20</td>\n",
       "      <td>30</td>\n",
       "      <td>20</td>\n",
       "      <td>30</td>\n",
       "    </tr>\n",
       "    <tr>\n",
       "      <th>2</th>\n",
       "      <td>30</td>\n",
       "      <td>40</td>\n",
       "      <td>30</td>\n",
       "      <td>40</td>\n",
       "    </tr>\n",
       "  </tbody>\n",
       "</table>\n",
       "</div>"
      ],
      "text/plain": [
       "    A   B   C   D\n",
       "0  10  20  10  20\n",
       "1  20  30  20  30\n",
       "2  30  40  30  40"
      ]
     },
     "execution_count": 102,
     "metadata": {},
     "output_type": "execute_result"
    }
   ],
   "source": [
    "pd.concat([df1,df2], axis=1)"
   ]
  },
  {
   "cell_type": "code",
   "execution_count": 104,
   "id": "1d668512",
   "metadata": {},
   "outputs": [
    {
     "data": {
      "text/html": [
       "<div>\n",
       "<style scoped>\n",
       "    .dataframe tbody tr th:only-of-type {\n",
       "        vertical-align: middle;\n",
       "    }\n",
       "\n",
       "    .dataframe tbody tr th {\n",
       "        vertical-align: top;\n",
       "    }\n",
       "\n",
       "    .dataframe thead th {\n",
       "        text-align: right;\n",
       "    }\n",
       "</style>\n",
       "<table border=\"1\" class=\"dataframe\">\n",
       "  <thead>\n",
       "    <tr style=\"text-align: right;\">\n",
       "      <th></th>\n",
       "      <th>Age</th>\n",
       "      <th>Gender</th>\n",
       "      <th>Speed_of_Impact</th>\n",
       "      <th>Helmet_Used</th>\n",
       "      <th>Seatbelt_Used</th>\n",
       "    </tr>\n",
       "  </thead>\n",
       "  <tbody>\n",
       "    <tr>\n",
       "      <th>46</th>\n",
       "      <td>56</td>\n",
       "      <td>Female</td>\n",
       "      <td>86.0</td>\n",
       "      <td>Yes</td>\n",
       "      <td>Yes</td>\n",
       "    </tr>\n",
       "    <tr>\n",
       "      <th>77</th>\n",
       "      <td>51</td>\n",
       "      <td>Female</td>\n",
       "      <td>84.0</td>\n",
       "      <td>Yes</td>\n",
       "      <td>Yes</td>\n",
       "    </tr>\n",
       "    <tr>\n",
       "      <th>148</th>\n",
       "      <td>56</td>\n",
       "      <td>Female</td>\n",
       "      <td>82.0</td>\n",
       "      <td>No</td>\n",
       "      <td>Yes</td>\n",
       "    </tr>\n",
       "    <tr>\n",
       "      <th>8</th>\n",
       "      <td>36</td>\n",
       "      <td>Female</td>\n",
       "      <td>83.0</td>\n",
       "      <td>Yes</td>\n",
       "      <td>No</td>\n",
       "    </tr>\n",
       "    <tr>\n",
       "      <th>160</th>\n",
       "      <td>69</td>\n",
       "      <td>Female</td>\n",
       "      <td>97.0</td>\n",
       "      <td>Yes</td>\n",
       "      <td>Yes</td>\n",
       "    </tr>\n",
       "    <tr>\n",
       "      <th>...</th>\n",
       "      <td>...</td>\n",
       "      <td>...</td>\n",
       "      <td>...</td>\n",
       "      <td>...</td>\n",
       "      <td>...</td>\n",
       "    </tr>\n",
       "    <tr>\n",
       "      <th>194</th>\n",
       "      <td>44</td>\n",
       "      <td>Female</td>\n",
       "      <td>21.0</td>\n",
       "      <td>No</td>\n",
       "      <td>Yes</td>\n",
       "    </tr>\n",
       "    <tr>\n",
       "      <th>35</th>\n",
       "      <td>32</td>\n",
       "      <td>Male</td>\n",
       "      <td>82.0</td>\n",
       "      <td>No</td>\n",
       "      <td>Yes</td>\n",
       "    </tr>\n",
       "    <tr>\n",
       "      <th>149</th>\n",
       "      <td>44</td>\n",
       "      <td>Female</td>\n",
       "      <td>88.0</td>\n",
       "      <td>Yes</td>\n",
       "      <td>Yes</td>\n",
       "    </tr>\n",
       "    <tr>\n",
       "      <th>41</th>\n",
       "      <td>54</td>\n",
       "      <td>Male</td>\n",
       "      <td>37.0</td>\n",
       "      <td>No</td>\n",
       "      <td>Yes</td>\n",
       "    </tr>\n",
       "    <tr>\n",
       "      <th>75</th>\n",
       "      <td>43</td>\n",
       "      <td>Female</td>\n",
       "      <td>64.0</td>\n",
       "      <td>Yes</td>\n",
       "      <td>No</td>\n",
       "    </tr>\n",
       "  </tbody>\n",
       "</table>\n",
       "<p>156 rows × 5 columns</p>\n",
       "</div>"
      ],
      "text/plain": [
       "     Age  Gender  Speed_of_Impact Helmet_Used Seatbelt_Used\n",
       "46    56  Female             86.0         Yes           Yes\n",
       "77    51  Female             84.0         Yes           Yes\n",
       "148   56  Female             82.0          No           Yes\n",
       "8     36  Female             83.0         Yes            No\n",
       "160   69  Female             97.0         Yes           Yes\n",
       "..   ...     ...              ...         ...           ...\n",
       "194   44  Female             21.0          No           Yes\n",
       "35    32    Male             82.0          No           Yes\n",
       "149   44  Female             88.0         Yes           Yes\n",
       "41    54    Male             37.0          No           Yes\n",
       "75    43  Female             64.0         Yes            No\n",
       "\n",
       "[156 rows x 5 columns]"
      ]
     },
     "execution_count": 104,
     "metadata": {},
     "output_type": "execute_result"
    }
   ],
   "source": [
    "X_train"
   ]
  },
  {
   "cell_type": "code",
   "execution_count": 107,
   "id": "d1549b00",
   "metadata": {},
   "outputs": [
    {
     "data": {
      "text/html": [
       "<div>\n",
       "<style scoped>\n",
       "    .dataframe tbody tr th:only-of-type {\n",
       "        vertical-align: middle;\n",
       "    }\n",
       "\n",
       "    .dataframe tbody tr th {\n",
       "        vertical-align: top;\n",
       "    }\n",
       "\n",
       "    .dataframe thead th {\n",
       "        text-align: right;\n",
       "    }\n",
       "</style>\n",
       "<table border=\"1\" class=\"dataframe\">\n",
       "  <thead>\n",
       "    <tr style=\"text-align: right;\">\n",
       "      <th></th>\n",
       "      <th>gener_enc</th>\n",
       "      <th>helmet_enc</th>\n",
       "      <th>seatbelt_enc</th>\n",
       "    </tr>\n",
       "  </thead>\n",
       "  <tbody>\n",
       "    <tr>\n",
       "      <th>0</th>\n",
       "      <td>0.0</td>\n",
       "      <td>1.0</td>\n",
       "      <td>1.0</td>\n",
       "    </tr>\n",
       "    <tr>\n",
       "      <th>1</th>\n",
       "      <td>0.0</td>\n",
       "      <td>1.0</td>\n",
       "      <td>1.0</td>\n",
       "    </tr>\n",
       "    <tr>\n",
       "      <th>2</th>\n",
       "      <td>0.0</td>\n",
       "      <td>0.0</td>\n",
       "      <td>1.0</td>\n",
       "    </tr>\n",
       "    <tr>\n",
       "      <th>3</th>\n",
       "      <td>0.0</td>\n",
       "      <td>1.0</td>\n",
       "      <td>0.0</td>\n",
       "    </tr>\n",
       "    <tr>\n",
       "      <th>4</th>\n",
       "      <td>0.0</td>\n",
       "      <td>1.0</td>\n",
       "      <td>1.0</td>\n",
       "    </tr>\n",
       "    <tr>\n",
       "      <th>...</th>\n",
       "      <td>...</td>\n",
       "      <td>...</td>\n",
       "      <td>...</td>\n",
       "    </tr>\n",
       "    <tr>\n",
       "      <th>151</th>\n",
       "      <td>0.0</td>\n",
       "      <td>0.0</td>\n",
       "      <td>1.0</td>\n",
       "    </tr>\n",
       "    <tr>\n",
       "      <th>152</th>\n",
       "      <td>1.0</td>\n",
       "      <td>0.0</td>\n",
       "      <td>1.0</td>\n",
       "    </tr>\n",
       "    <tr>\n",
       "      <th>153</th>\n",
       "      <td>0.0</td>\n",
       "      <td>1.0</td>\n",
       "      <td>1.0</td>\n",
       "    </tr>\n",
       "    <tr>\n",
       "      <th>154</th>\n",
       "      <td>1.0</td>\n",
       "      <td>0.0</td>\n",
       "      <td>1.0</td>\n",
       "    </tr>\n",
       "    <tr>\n",
       "      <th>155</th>\n",
       "      <td>0.0</td>\n",
       "      <td>1.0</td>\n",
       "      <td>0.0</td>\n",
       "    </tr>\n",
       "  </tbody>\n",
       "</table>\n",
       "<p>156 rows × 3 columns</p>\n",
       "</div>"
      ],
      "text/plain": [
       "     gener_enc  helmet_enc  seatbelt_enc\n",
       "0          0.0         1.0           1.0\n",
       "1          0.0         1.0           1.0\n",
       "2          0.0         0.0           1.0\n",
       "3          0.0         1.0           0.0\n",
       "4          0.0         1.0           1.0\n",
       "..         ...         ...           ...\n",
       "151        0.0         0.0           1.0\n",
       "152        1.0         0.0           1.0\n",
       "153        0.0         1.0           1.0\n",
       "154        1.0         0.0           1.0\n",
       "155        0.0         1.0           0.0\n",
       "\n",
       "[156 rows x 3 columns]"
      ]
     },
     "execution_count": 107,
     "metadata": {},
     "output_type": "execute_result"
    }
   ],
   "source": [
    "pd.DataFrame(X_train_encoded, columns=['gener_enc','helmet_enc','seatbelt_enc'])"
   ]
  },
  {
   "cell_type": "code",
   "execution_count": 112,
   "id": "acf1639c",
   "metadata": {},
   "outputs": [
    {
     "data": {
      "text/html": [
       "<div>\n",
       "<style scoped>\n",
       "    .dataframe tbody tr th:only-of-type {\n",
       "        vertical-align: middle;\n",
       "    }\n",
       "\n",
       "    .dataframe tbody tr th {\n",
       "        vertical-align: top;\n",
       "    }\n",
       "\n",
       "    .dataframe thead th {\n",
       "        text-align: right;\n",
       "    }\n",
       "</style>\n",
       "<table border=\"1\" class=\"dataframe\">\n",
       "  <thead>\n",
       "    <tr style=\"text-align: right;\">\n",
       "      <th></th>\n",
       "      <th>Age</th>\n",
       "      <th>Speed_of_Impact</th>\n",
       "      <th>gener_enc</th>\n",
       "      <th>helmet_enc</th>\n",
       "      <th>seatbelt_enc</th>\n",
       "    </tr>\n",
       "  </thead>\n",
       "  <tbody>\n",
       "    <tr>\n",
       "      <th>46</th>\n",
       "      <td>56.0</td>\n",
       "      <td>86.0</td>\n",
       "      <td>1.0</td>\n",
       "      <td>0.0</td>\n",
       "      <td>1.0</td>\n",
       "    </tr>\n",
       "    <tr>\n",
       "      <th>77</th>\n",
       "      <td>51.0</td>\n",
       "      <td>84.0</td>\n",
       "      <td>1.0</td>\n",
       "      <td>0.0</td>\n",
       "      <td>1.0</td>\n",
       "    </tr>\n",
       "    <tr>\n",
       "      <th>148</th>\n",
       "      <td>56.0</td>\n",
       "      <td>82.0</td>\n",
       "      <td>1.0</td>\n",
       "      <td>0.0</td>\n",
       "      <td>0.0</td>\n",
       "    </tr>\n",
       "    <tr>\n",
       "      <th>8</th>\n",
       "      <td>36.0</td>\n",
       "      <td>83.0</td>\n",
       "      <td>1.0</td>\n",
       "      <td>1.0</td>\n",
       "      <td>0.0</td>\n",
       "    </tr>\n",
       "    <tr>\n",
       "      <th>160</th>\n",
       "      <td>69.0</td>\n",
       "      <td>97.0</td>\n",
       "      <td>NaN</td>\n",
       "      <td>NaN</td>\n",
       "      <td>NaN</td>\n",
       "    </tr>\n",
       "    <tr>\n",
       "      <th>...</th>\n",
       "      <td>...</td>\n",
       "      <td>...</td>\n",
       "      <td>...</td>\n",
       "      <td>...</td>\n",
       "      <td>...</td>\n",
       "    </tr>\n",
       "    <tr>\n",
       "      <th>134</th>\n",
       "      <td>NaN</td>\n",
       "      <td>NaN</td>\n",
       "      <td>1.0</td>\n",
       "      <td>1.0</td>\n",
       "      <td>1.0</td>\n",
       "    </tr>\n",
       "    <tr>\n",
       "      <th>138</th>\n",
       "      <td>NaN</td>\n",
       "      <td>NaN</td>\n",
       "      <td>0.0</td>\n",
       "      <td>1.0</td>\n",
       "      <td>0.0</td>\n",
       "    </tr>\n",
       "    <tr>\n",
       "      <th>139</th>\n",
       "      <td>NaN</td>\n",
       "      <td>NaN</td>\n",
       "      <td>1.0</td>\n",
       "      <td>1.0</td>\n",
       "      <td>0.0</td>\n",
       "    </tr>\n",
       "    <tr>\n",
       "      <th>152</th>\n",
       "      <td>NaN</td>\n",
       "      <td>NaN</td>\n",
       "      <td>1.0</td>\n",
       "      <td>0.0</td>\n",
       "      <td>1.0</td>\n",
       "    </tr>\n",
       "    <tr>\n",
       "      <th>155</th>\n",
       "      <td>NaN</td>\n",
       "      <td>NaN</td>\n",
       "      <td>0.0</td>\n",
       "      <td>1.0</td>\n",
       "      <td>0.0</td>\n",
       "    </tr>\n",
       "  </tbody>\n",
       "</table>\n",
       "<p>194 rows × 5 columns</p>\n",
       "</div>"
      ],
      "text/plain": [
       "      Age  Speed_of_Impact  gener_enc  helmet_enc  seatbelt_enc\n",
       "46   56.0             86.0        1.0         0.0           1.0\n",
       "77   51.0             84.0        1.0         0.0           1.0\n",
       "148  56.0             82.0        1.0         0.0           0.0\n",
       "8    36.0             83.0        1.0         1.0           0.0\n",
       "160  69.0             97.0        NaN         NaN           NaN\n",
       "..    ...              ...        ...         ...           ...\n",
       "134   NaN              NaN        1.0         1.0           1.0\n",
       "138   NaN              NaN        0.0         1.0           0.0\n",
       "139   NaN              NaN        1.0         1.0           0.0\n",
       "152   NaN              NaN        1.0         0.0           1.0\n",
       "155   NaN              NaN        0.0         1.0           0.0\n",
       "\n",
       "[194 rows x 5 columns]"
      ]
     },
     "execution_count": 112,
     "metadata": {},
     "output_type": "execute_result"
    }
   ],
   "source": [
    "X_train_new"
   ]
  },
  {
   "cell_type": "code",
   "execution_count": 115,
   "id": "7a6e75ab",
   "metadata": {},
   "outputs": [
    {
     "data": {
      "text/html": [
       "<div>\n",
       "<style scoped>\n",
       "    .dataframe tbody tr th:only-of-type {\n",
       "        vertical-align: middle;\n",
       "    }\n",
       "\n",
       "    .dataframe tbody tr th {\n",
       "        vertical-align: top;\n",
       "    }\n",
       "\n",
       "    .dataframe thead th {\n",
       "        text-align: right;\n",
       "    }\n",
       "</style>\n",
       "<table border=\"1\" class=\"dataframe\">\n",
       "  <thead>\n",
       "    <tr style=\"text-align: right;\">\n",
       "      <th></th>\n",
       "      <th>Age</th>\n",
       "      <th>Gender</th>\n",
       "      <th>Speed_of_Impact</th>\n",
       "      <th>Helmet_Used</th>\n",
       "      <th>Seatbelt_Used</th>\n",
       "    </tr>\n",
       "  </thead>\n",
       "  <tbody>\n",
       "    <tr>\n",
       "      <th>0</th>\n",
       "      <td>56</td>\n",
       "      <td>Female</td>\n",
       "      <td>86.0</td>\n",
       "      <td>Yes</td>\n",
       "      <td>Yes</td>\n",
       "    </tr>\n",
       "    <tr>\n",
       "      <th>1</th>\n",
       "      <td>51</td>\n",
       "      <td>Female</td>\n",
       "      <td>84.0</td>\n",
       "      <td>Yes</td>\n",
       "      <td>Yes</td>\n",
       "    </tr>\n",
       "    <tr>\n",
       "      <th>2</th>\n",
       "      <td>56</td>\n",
       "      <td>Female</td>\n",
       "      <td>82.0</td>\n",
       "      <td>No</td>\n",
       "      <td>Yes</td>\n",
       "    </tr>\n",
       "    <tr>\n",
       "      <th>3</th>\n",
       "      <td>36</td>\n",
       "      <td>Female</td>\n",
       "      <td>83.0</td>\n",
       "      <td>Yes</td>\n",
       "      <td>No</td>\n",
       "    </tr>\n",
       "    <tr>\n",
       "      <th>4</th>\n",
       "      <td>69</td>\n",
       "      <td>Female</td>\n",
       "      <td>97.0</td>\n",
       "      <td>Yes</td>\n",
       "      <td>Yes</td>\n",
       "    </tr>\n",
       "    <tr>\n",
       "      <th>...</th>\n",
       "      <td>...</td>\n",
       "      <td>...</td>\n",
       "      <td>...</td>\n",
       "      <td>...</td>\n",
       "      <td>...</td>\n",
       "    </tr>\n",
       "    <tr>\n",
       "      <th>151</th>\n",
       "      <td>44</td>\n",
       "      <td>Female</td>\n",
       "      <td>21.0</td>\n",
       "      <td>No</td>\n",
       "      <td>Yes</td>\n",
       "    </tr>\n",
       "    <tr>\n",
       "      <th>152</th>\n",
       "      <td>32</td>\n",
       "      <td>Male</td>\n",
       "      <td>82.0</td>\n",
       "      <td>No</td>\n",
       "      <td>Yes</td>\n",
       "    </tr>\n",
       "    <tr>\n",
       "      <th>153</th>\n",
       "      <td>44</td>\n",
       "      <td>Female</td>\n",
       "      <td>88.0</td>\n",
       "      <td>Yes</td>\n",
       "      <td>Yes</td>\n",
       "    </tr>\n",
       "    <tr>\n",
       "      <th>154</th>\n",
       "      <td>54</td>\n",
       "      <td>Male</td>\n",
       "      <td>37.0</td>\n",
       "      <td>No</td>\n",
       "      <td>Yes</td>\n",
       "    </tr>\n",
       "    <tr>\n",
       "      <th>155</th>\n",
       "      <td>43</td>\n",
       "      <td>Female</td>\n",
       "      <td>64.0</td>\n",
       "      <td>Yes</td>\n",
       "      <td>No</td>\n",
       "    </tr>\n",
       "  </tbody>\n",
       "</table>\n",
       "<p>156 rows × 5 columns</p>\n",
       "</div>"
      ],
      "text/plain": [
       "     Age  Gender  Speed_of_Impact Helmet_Used Seatbelt_Used\n",
       "0     56  Female             86.0         Yes           Yes\n",
       "1     51  Female             84.0         Yes           Yes\n",
       "2     56  Female             82.0          No           Yes\n",
       "3     36  Female             83.0         Yes            No\n",
       "4     69  Female             97.0         Yes           Yes\n",
       "..   ...     ...              ...         ...           ...\n",
       "151   44  Female             21.0          No           Yes\n",
       "152   32    Male             82.0          No           Yes\n",
       "153   44  Female             88.0         Yes           Yes\n",
       "154   54    Male             37.0          No           Yes\n",
       "155   43  Female             64.0         Yes            No\n",
       "\n",
       "[156 rows x 5 columns]"
      ]
     },
     "execution_count": 115,
     "metadata": {},
     "output_type": "execute_result"
    }
   ],
   "source": [
    "X_train.reset_index(drop=True)"
   ]
  },
  {
   "cell_type": "code",
   "execution_count": 118,
   "id": "a6fc4321",
   "metadata": {},
   "outputs": [
    {
     "data": {
      "text/html": [
       "<div>\n",
       "<style scoped>\n",
       "    .dataframe tbody tr th:only-of-type {\n",
       "        vertical-align: middle;\n",
       "    }\n",
       "\n",
       "    .dataframe tbody tr th {\n",
       "        vertical-align: top;\n",
       "    }\n",
       "\n",
       "    .dataframe thead th {\n",
       "        text-align: right;\n",
       "    }\n",
       "</style>\n",
       "<table border=\"1\" class=\"dataframe\">\n",
       "  <thead>\n",
       "    <tr style=\"text-align: right;\">\n",
       "      <th></th>\n",
       "      <th>Age</th>\n",
       "      <th>Speed_of_Impact</th>\n",
       "      <th>gener_enc</th>\n",
       "      <th>helmet_enc</th>\n",
       "      <th>seatbelt_enc</th>\n",
       "    </tr>\n",
       "  </thead>\n",
       "  <tbody>\n",
       "    <tr>\n",
       "      <th>0</th>\n",
       "      <td>56</td>\n",
       "      <td>86.0</td>\n",
       "      <td>0.0</td>\n",
       "      <td>1.0</td>\n",
       "      <td>1.0</td>\n",
       "    </tr>\n",
       "    <tr>\n",
       "      <th>1</th>\n",
       "      <td>51</td>\n",
       "      <td>84.0</td>\n",
       "      <td>0.0</td>\n",
       "      <td>1.0</td>\n",
       "      <td>1.0</td>\n",
       "    </tr>\n",
       "    <tr>\n",
       "      <th>2</th>\n",
       "      <td>56</td>\n",
       "      <td>82.0</td>\n",
       "      <td>0.0</td>\n",
       "      <td>0.0</td>\n",
       "      <td>1.0</td>\n",
       "    </tr>\n",
       "    <tr>\n",
       "      <th>3</th>\n",
       "      <td>36</td>\n",
       "      <td>83.0</td>\n",
       "      <td>0.0</td>\n",
       "      <td>1.0</td>\n",
       "      <td>0.0</td>\n",
       "    </tr>\n",
       "    <tr>\n",
       "      <th>4</th>\n",
       "      <td>69</td>\n",
       "      <td>97.0</td>\n",
       "      <td>0.0</td>\n",
       "      <td>1.0</td>\n",
       "      <td>1.0</td>\n",
       "    </tr>\n",
       "    <tr>\n",
       "      <th>...</th>\n",
       "      <td>...</td>\n",
       "      <td>...</td>\n",
       "      <td>...</td>\n",
       "      <td>...</td>\n",
       "      <td>...</td>\n",
       "    </tr>\n",
       "    <tr>\n",
       "      <th>151</th>\n",
       "      <td>44</td>\n",
       "      <td>21.0</td>\n",
       "      <td>0.0</td>\n",
       "      <td>0.0</td>\n",
       "      <td>1.0</td>\n",
       "    </tr>\n",
       "    <tr>\n",
       "      <th>152</th>\n",
       "      <td>32</td>\n",
       "      <td>82.0</td>\n",
       "      <td>1.0</td>\n",
       "      <td>0.0</td>\n",
       "      <td>1.0</td>\n",
       "    </tr>\n",
       "    <tr>\n",
       "      <th>153</th>\n",
       "      <td>44</td>\n",
       "      <td>88.0</td>\n",
       "      <td>0.0</td>\n",
       "      <td>1.0</td>\n",
       "      <td>1.0</td>\n",
       "    </tr>\n",
       "    <tr>\n",
       "      <th>154</th>\n",
       "      <td>54</td>\n",
       "      <td>37.0</td>\n",
       "      <td>1.0</td>\n",
       "      <td>0.0</td>\n",
       "      <td>1.0</td>\n",
       "    </tr>\n",
       "    <tr>\n",
       "      <th>155</th>\n",
       "      <td>43</td>\n",
       "      <td>64.0</td>\n",
       "      <td>0.0</td>\n",
       "      <td>1.0</td>\n",
       "      <td>0.0</td>\n",
       "    </tr>\n",
       "  </tbody>\n",
       "</table>\n",
       "<p>156 rows × 5 columns</p>\n",
       "</div>"
      ],
      "text/plain": [
       "     Age  Speed_of_Impact  gener_enc  helmet_enc  seatbelt_enc\n",
       "0     56             86.0        0.0         1.0           1.0\n",
       "1     51             84.0        0.0         1.0           1.0\n",
       "2     56             82.0        0.0         0.0           1.0\n",
       "3     36             83.0        0.0         1.0           0.0\n",
       "4     69             97.0        0.0         1.0           1.0\n",
       "..   ...              ...        ...         ...           ...\n",
       "151   44             21.0        0.0         0.0           1.0\n",
       "152   32             82.0        1.0         0.0           1.0\n",
       "153   44             88.0        0.0         1.0           1.0\n",
       "154   54             37.0        1.0         0.0           1.0\n",
       "155   43             64.0        0.0         1.0           0.0\n",
       "\n",
       "[156 rows x 5 columns]"
      ]
     },
     "execution_count": 118,
     "metadata": {},
     "output_type": "execute_result"
    }
   ],
   "source": [
    "X_train_new"
   ]
  },
  {
   "cell_type": "code",
   "execution_count": 145,
   "id": "bb37226c",
   "metadata": {},
   "outputs": [],
   "source": [
    "from sklearn.model_selection import StratifiedKFold"
   ]
  },
  {
   "cell_type": "code",
   "execution_count": null,
   "id": "0f2581c1",
   "metadata": {},
   "outputs": [],
   "source": [
    "skf = StratifiedKFold"
   ]
  }
 ],
 "metadata": {
  "kernelspec": {
   "display_name": "Python 3 (ipykernel)",
   "language": "python",
   "name": "python3"
  },
  "language_info": {
   "codemirror_mode": {
    "name": "ipython",
    "version": 3
   },
   "file_extension": ".py",
   "mimetype": "text/x-python",
   "name": "python",
   "nbconvert_exporter": "python",
   "pygments_lexer": "ipython3",
   "version": "3.9.12"
  }
 },
 "nbformat": 4,
 "nbformat_minor": 5
}
