{
 "cells": [
  {
   "cell_type": "code",
   "execution_count": null,
   "metadata": {},
   "outputs": [],
   "source": [
    "#Introduction\n",
    "\n",
    "#R\n",
    "x <- 3\n",
    "class(x)\n",
    "Output: numeric\n",
    "\n",
    "#Python\n",
    "x = 3\n",
    "type(x)\n",
    "Output: int\n",
    "    \n",
    "y = 0.5\n",
    "type(y)\n",
    "Output: float"
   ]
  },
  {
   "cell_type": "code",
   "execution_count": null,
   "metadata": {},
   "outputs": [],
   "source": [
    "#R\n",
    "1 + 1\n",
    "Ouput: 2\n",
    "    \n",
    "'1' + '1'\n",
    "Output: Error\n",
    "\n",
    "#Python\n",
    "1 + 1\n",
    "Output: 2\n",
    "\n",
    "'1' + '1'     #string concatenation\n",
    "Output: '11'  \n",
    "\n",
    "'1' * 5\n",
    "Output '11111'\n",
    "\n",
    "'1' '1'\n",
    "Output '11'"
   ]
  },
  {
   "cell_type": "code",
   "execution_count": null,
   "metadata": {},
   "outputs": [],
   "source": [
    "#R datatypes \n",
    "numeric, character, boolean (TRUE / FALSE)\n",
    "\n",
    "#Python datatypes\n",
    "int, float, bool (True / False), str"
   ]
  },
  {
   "cell_type": "code",
   "execution_count": null,
   "metadata": {},
   "outputs": [],
   "source": [
    "#Lists in R\n",
    "l = list(1,\"2\",TRUE)\n",
    "l\n",
    "Output\n",
    "[[1]]\n",
    "[1] 1\n",
    "\n",
    "[[2]]\n",
    "[1] \"2\"\n",
    "\n",
    "[[3]]\n",
    "[1] TRUE\n",
    "\n",
    "#Lists in Python\n",
    "l = [1,'2',True]\n",
    "l\n",
    "Output\n",
    "[1,'2',True]"
   ]
  },
  {
   "cell_type": "code",
   "execution_count": null,
   "metadata": {},
   "outputs": [],
   "source": [
    "#Python is a 0-indexed language\n",
    "\n",
    "#Negative Indicies\n",
    "#R (except 1st)\n",
    "l[-1]\n",
    "Output\n",
    "[[1]]\n",
    "[1] \"2\"\n",
    "\n",
    "[[2]]\n",
    "[1] TRUE\n",
    "\n",
    "#Python (last element)\n",
    "l[-1]\n",
    "Output\n",
    "True"
   ]
  },
  {
   "cell_type": "code",
   "execution_count": null,
   "metadata": {},
   "outputs": [],
   "source": [
    "#Python\n",
    "#left inclusive right exclusive and step\n",
    "l = [0,1,2,3,4]\n",
    "\n",
    "l[0:3]\n",
    "Output [0,1,2]\n",
    "\n",
    "l[0:5:2]  #step size 2\n",
    "Output [0,2,4]\n",
    "\n",
    "l[:3]\n",
    "Output [0,1,2]\n",
    "\n",
    "l[1:]\n",
    "Output [1,2,3,4]\n",
    "\n",
    "l[::2]\n",
    "Output [0,2,4]"
   ]
  },
  {
   "cell_type": "code",
   "execution_count": null,
   "metadata": {},
   "outputs": [],
   "source": [
    "#Python Lists are unlabeled\n",
    "#Python has dictionaries that provide key:value pairs\n",
    "\n",
    "d = {'int_value':3, 'bool_value':False, 'str_value':'hello'}\n",
    "d['str_value']\n",
    "'hello'\n",
    "\n",
    "#If you print the entire dictionary then the order of the keys are random"
   ]
  },
  {
   "cell_type": "code",
   "execution_count": null,
   "metadata": {},
   "outputs": [],
   "source": [
    "#Length function to find the length of both lists and dictionaries\n",
    "\n",
    "len(l)\n",
    "Output 5\n",
    "\n",
    "len(d)\n",
    "Output 3"
   ]
  },
  {
   "cell_type": "code",
   "execution_count": null,
   "metadata": {},
   "outputs": [],
   "source": [
    "#Python is an object oriented programming language\n",
    "#Everything in Python is an object\n",
    "#Each object will have its attributes and methods"
   ]
  },
  {
   "cell_type": "code",
   "execution_count": null,
   "metadata": {},
   "outputs": [],
   "source": [
    "#Python methods\n",
    "\n",
    "l = [1, \"2\", True]\n",
    "l.append('appended value')\n",
    "\n",
    "d = {'int_value':3, 'bool_value':False, 'str_value':'hello'}\n",
    "d.update({'str_value':'new_value', 'new_key':'new_value'})\n",
    "#if key already exists then it will be updated with the new value"
   ]
  },
  {
   "cell_type": "code",
   "execution_count": null,
   "metadata": {},
   "outputs": [],
   "source": [
    "#Arrays and dataframes are not built into Python by default\n",
    "#Arrays and matricies come from numpy\n",
    "#Dataframes come from pandas"
   ]
  },
  {
   "cell_type": "code",
   "execution_count": null,
   "metadata": {},
   "outputs": [],
   "source": [
    "#Numpy ndarray\n",
    "import numpy as np\n",
    "arr = np.loadtxt('my_file.csv', delimiter=',')"
   ]
  },
  {
   "cell_type": "code",
   "execution_count": null,
   "metadata": {},
   "outputs": [],
   "source": [
    "#Pandas DataFrame\n",
    "import pandas as pd\n",
    "df = pd.read_csv('myfile.csv')\n",
    "df.head()"
   ]
  },
  {
   "cell_type": "code",
   "execution_count": null,
   "metadata": {},
   "outputs": [],
   "source": [
    "#Control flow statements\n",
    "\n",
    "#R\n",
    "if (5==5){\n",
    "    print('TRUE')\n",
    "}\n",
    "\n",
    "#Python\n",
    "if 5 == 5:\n",
    "    print('True')\n",
    "\n",
    "#In python curly brackets aren't used and indentation is used (4 spaces)"
   ]
  },
  {
   "cell_type": "code",
   "execution_count": null,
   "metadata": {},
   "outputs": [],
   "source": [
    "#if-elif-else\n",
    "\n",
    "#R\n",
    "val <- 2\n",
    "\n",
    "if (val == 1){\n",
    "    print('snap')\n",
    "} else if (val ==2){\n",
    "    print('crackle')\n",
    "} else {\n",
    "    print('pop')\n",
    "}\n",
    "\n",
    "#Python\n",
    "val = 2\n",
    "\n",
    "if val == 1:\n",
    "    print('snap')\n",
    "elif val == 2:\n",
    "    print('crackle')\n",
    "else:\n",
    "    print('pop')"
   ]
  },
  {
   "cell_type": "code",
   "execution_count": null,
   "metadata": {},
   "outputs": [],
   "source": [
    "#Loops\n",
    "\n",
    "#R\n",
    "num_val <- c(1,2,3,4)\n",
    "\n",
    "for (value in seq_along(num_val)){\n",
    "    print(value)\n",
    "}\n",
    "\n",
    "#Python\n",
    "num_val = [1,2,3,4]\n",
    "\n",
    "for value in num_val:\n",
    "    print(value)"
   ]
  },
  {
   "cell_type": "code",
   "execution_count": null,
   "metadata": {},
   "outputs": [],
   "source": [
    "#Functions\n",
    "\n",
    "#R\n",
    "my_mean <- function(x,y){\n",
    "    num = x + y\n",
    "    dem = 2\n",
    "    num / dem\n",
    "}\n",
    "\n",
    "#Python\n",
    "def my_mean(x,y):\n",
    "    num = x + y\n",
    "    dem = 2\n",
    "    return num / dem\n",
    "#In python, last line will not automatically return the value and we need to specify the return statement"
   ]
  },
  {
   "cell_type": "code",
   "execution_count": null,
   "metadata": {},
   "outputs": [],
   "source": [
    "#Lambda Funtions: Same as Anonymous functions in R which are usually used in sapply, lapply etc.\n",
    "#Lambda functions are typically used in the applied method\n",
    "\n",
    "#R\n",
    "add_1 <- function(x) x + 1\n",
    "\n",
    "funtion(x) x + 1\n",
    "\n",
    "#Python\n",
    "def add_1(x):\n",
    "    return x + 1\n",
    "\n",
    "a1_lam = lambda x: x + 1\n",
    "a1_lam(3)"
   ]
  },
  {
   "cell_type": "code",
   "execution_count": null,
   "metadata": {},
   "outputs": [],
   "source": [
    "#Comprehensions in Python\n",
    "\n",
    "#Loop\n",
    "data = [1,2,3,4,5]\n",
    "new = []\n",
    "\n",
    "for x in data:\n",
    "    new.append(x**2)\n",
    "print(new)\n",
    "\n",
    "#Comprehension\n",
    "data = [1,2,3,4,5]\n",
    "new = [x**2 for x in data]\n",
    "print(new)"
   ]
  },
  {
   "cell_type": "code",
   "execution_count": null,
   "metadata": {},
   "outputs": [],
   "source": [
    "#Dictionary Comprehension\n",
    "\n",
    "#Loop\n",
    "data = [1,2,3,4,5]\n",
    "new = {}\n",
    "\n",
    "for x in data:\n",
    "    new[x] = x**2\n",
    "print(new)\n",
    "\n",
    "#Comprehension\n",
    "data = [1,2,3,4,5]\n",
    "\n",
    "new = {x: x**2 for x in data}\n",
    "print(new)\n",
    "\n",
    "\n",
    "x = [['a', 1], ['b', 2], ['c', 3], ['d', 4]]\n",
    "print({key:(value**2) for key, value in x})"
   ]
  },
  {
   "cell_type": "code",
   "execution_count": null,
   "metadata": {},
   "outputs": [],
   "source": [
    "#Alternatives to for loop\n",
    "#R: sapply, lapply, apply functions\n",
    "#Python: map function and apply method\n",
    "\n",
    "def sq(x):\n",
    "    return x**2\n",
    "\n",
    "l = [1,2,3]\n",
    "\n",
    "#For loop\n",
    "for i in l:\n",
    "    print(sq(i))\n",
    "\n",
    "#Map\n",
    "#takes the name of the function as the 1st argument and the list as the second argument\n",
    "map(sq,l) #the output of map is map object to convert that into list we need to enclose it into list\n",
    "list(map(sq, l))"
   ]
  },
  {
   "cell_type": "code",
   "execution_count": null,
   "metadata": {},
   "outputs": [],
   "source": [
    "##Pandas"
   ]
  },
  {
   "cell_type": "code",
   "execution_count": 2,
   "metadata": {},
   "outputs": [
    {
     "name": "stdout",
     "output_type": "stream",
     "text": [
      "   A  B  C\n",
      "x  1  4  7\n",
      "y  2  5  8\n",
      "z  3  6  9\n"
     ]
    }
   ],
   "source": [
    "#Manually create a DataFrame\n",
    "#Passing a dictionary\n",
    "import pandas as pd\n",
    "\n",
    "df = pd.DataFrame({\n",
    "    'A': [1,2,3],\n",
    "    'B': [4,5,6],\n",
    "    'C': [7,8,9]},\n",
    "    index = ['x', 'y', 'z'])\n",
    "\n",
    "print(df)"
   ]
  },
  {
   "cell_type": "code",
   "execution_count": null,
   "metadata": {},
   "outputs": [],
   "source": [
    "#Subsetting columns\n",
    "\n",
    "df['A']\n",
    "df.A\n",
    "df[['A','B']] #Passing a list of values instead of a single value"
   ]
  },
  {
   "cell_type": "code",
   "execution_count": null,
   "metadata": {},
   "outputs": [],
   "source": [
    "#Subsetting rows\n",
    "#Row-label (loc) vs row-index (iloc)\n",
    "#Python starts counting from 0\n",
    "\n",
    "df.iloc[0] #subset the first row\n",
    "df.iloc[[0,1]] #subset first 2 rows\n",
    "df.iloc[0, :] #subset the first row and all columns\n",
    "df.iloc[[0,1], :]\n",
    "\n",
    "df.loc['x']\n",
    "df.loc[['x','y']]\n",
    "df.loc['x', 'A']\n",
    "df.loc[['x','y'], ['A','B']]"
   ]
  },
  {
   "cell_type": "code",
   "execution_count": null,
   "metadata": {},
   "outputs": [],
   "source": [
    "#Conditional Subsetting\n",
    "\n",
    "df[df.A == 3]\n",
    "df[(df.A == 3) | (df.B == 4)]\n",
    "\n",
    "df.loc[row_labels, column_labels]\n",
    "df.iloc[row_indices, column_indices]\n",
    "tips.loc[tips['sex'] == 'Female', ['total_bill', 'tip', 'sex']]\n",
    "tips.iloc[0:3, 0:3]"
   ]
  },
  {
   "cell_type": "code",
   "execution_count": 3,
   "metadata": {},
   "outputs": [
    {
     "data": {
      "text/plain": [
       "(3, 3)"
      ]
     },
     "execution_count": 3,
     "metadata": {},
     "output_type": "execute_result"
    }
   ],
   "source": [
    "#Attributes\n",
    "#Similar to method we can call an attribute on an object but without the parenthesis\n",
    "df.shape"
   ]
  },
  {
   "cell_type": "code",
   "execution_count": null,
   "metadata": {},
   "outputs": [],
   "source": [
    "#Type\n",
    "\n",
    "#R\n",
    "class(df)\n",
    "Output \"data.frame\"\n",
    "\n",
    "#Python\n",
    "type(df)\n",
    "Output pandas.core.frame.DataFrame"
   ]
  },
  {
   "cell_type": "code",
   "execution_count": null,
   "metadata": {},
   "outputs": [],
   "source": [
    "#Info\n",
    "\n",
    "#R\n",
    "str(df)\n",
    "\n",
    "#Python\n",
    "df.info()"
   ]
  },
  {
   "cell_type": "code",
   "execution_count": null,
   "metadata": {},
   "outputs": [],
   "source": [
    "#Convert to string\n",
    "\n",
    "#R\n",
    "df$A <- as.character(df$A)\n",
    "\n",
    "#Python\n",
    "df['A'] = df['A'].astype(str)\n",
    "\n",
    "#Object type in pandas refer to strings"
   ]
  },
  {
   "cell_type": "code",
   "execution_count": null,
   "metadata": {},
   "outputs": [],
   "source": [
    "#String Accessor\n",
    "\n",
    "df = pd.DataFrame({'name' : ['Daniel  ', '  Eric', ' Julia ']})\n",
    "\n",
    "df['name_strip'] = df['name'].str.strip() #removes all leading and trailing spaces from a string\n",
    "\n",
    "# Converts 'col_a' to lower case\n",
    "df['col_a'].str.lower()\n",
    "\n",
    "# Converts 'col_b' to upper case\n",
    "df['col_b'].str.upper()"
   ]
  },
  {
   "cell_type": "code",
   "execution_count": 4,
   "metadata": {},
   "outputs": [
    {
     "data": {
      "text/plain": [
       "name            object\n",
       "gender          object\n",
       "gender_cat    category\n",
       "dtype: object"
      ]
     },
     "execution_count": 4,
     "metadata": {},
     "output_type": "execute_result"
    }
   ],
   "source": [
    "#Category for categorical values (similar to factor in R)\n",
    "\n",
    "df = pd.DataFrame({'name': ['Daniel', 'Eric', 'Julia'],\n",
    "                   'gender': ['Male', 'Male', 'Female']})\n",
    "df.dtypes\n",
    "\n",
    "df['gender_cat'] = df['gender'].astype('category')\n",
    "\n",
    "df.dtypes"
   ]
  },
  {
   "cell_type": "code",
   "execution_count": 7,
   "metadata": {},
   "outputs": [
    {
     "data": {
      "text/plain": [
       "0    1\n",
       "1    1\n",
       "2    0\n",
       "dtype: int8"
      ]
     },
     "execution_count": 7,
     "metadata": {},
     "output_type": "execute_result"
    }
   ],
   "source": [
    "#Category Accessor\n",
    "\n",
    "df['gender_cat'].cat.categories\n",
    "\n",
    "df.gender_cat.cat.codes\n",
    "\n",
    "# Reorder categorical levels\n",
    "df['column_name'].cat.reorder_categories(['low', 'high'], ordered=True)"
   ]
  },
  {
   "cell_type": "code",
   "execution_count": 3,
   "metadata": {},
   "outputs": [
    {
     "data": {
      "text/plain": [
       "name               object\n",
       "born               object\n",
       "born_dt    datetime64[ns]\n",
       "dtype: object"
      ]
     },
     "execution_count": 3,
     "metadata": {},
     "output_type": "execute_result"
    }
   ],
   "source": [
    "#Datetime\n",
    "import pandas as pd\n",
    "df = pd.DataFrame({'name': ['Rosaline Franklin', 'William Gosset'],\n",
    "                   'born': ['1920-07-25', '1876-06-13']})\n",
    "\n",
    "df['born_dt'] = pd.to_datetime(df['born'])\n",
    "\n",
    "df.dtypes\n",
    "\n",
    "pd.to_datetime(df['date_column_as_string'], format='%m/%d/%Y')\n",
    "#OR\n",
    "pd.read_csv('country_timeseries.csv', parse_dates=['Dates'])\n",
    "#parse_dates takes a list of column names as input which needs to be parsed"
   ]
  },
  {
   "cell_type": "code",
   "execution_count": 6,
   "metadata": {},
   "outputs": [
    {
     "data": {
      "text/plain": [
       "0    7\n",
       "1    6\n",
       "Name: born_dt, dtype: int64"
      ]
     },
     "execution_count": 6,
     "metadata": {},
     "output_type": "execute_result"
    }
   ],
   "source": [
    "#Datetime Accessor\n",
    "\n",
    "df['born_dt'].dt.day\n",
    "df['born_dt'].dt.month\n",
    "df['born_dt'].dt.year"
   ]
  },
  {
   "cell_type": "code",
   "execution_count": 15,
   "metadata": {},
   "outputs": [],
   "source": [
    "#Missing data\n",
    "#Missing data is represented as NaN and this type can be found in the numpy library\n",
    "#np.NaN, np.NAN, np.nan are all the same as the NA R value\n",
    "#check missing with pd.isnull\n",
    "#check non-missing with pd.notnull\n",
    "#pd.isnull is an alias for pd.isna\n",
    "#while calculating aggregate functions like mean, missing values are ignored by default (unlike in R)\n",
    "\n",
    "df = pd.DataFrame({'name': ['John Smith', 'Jane Doe', 'Mary Johnson'],\n",
    "                   'treatment_a' : [None, 16.0, 3.0],\n",
    "                   'treatment_b': [2,11,1]})\n",
    "a_mean = df['treatment_a'].mean()"
   ]
  },
  {
   "cell_type": "code",
   "execution_count": 16,
   "metadata": {},
   "outputs": [
    {
     "data": {
      "text/html": [
       "<div>\n",
       "<style scoped>\n",
       "    .dataframe tbody tr th:only-of-type {\n",
       "        vertical-align: middle;\n",
       "    }\n",
       "\n",
       "    .dataframe tbody tr th {\n",
       "        vertical-align: top;\n",
       "    }\n",
       "\n",
       "    .dataframe thead th {\n",
       "        text-align: right;\n",
       "    }\n",
       "</style>\n",
       "<table border=\"1\" class=\"dataframe\">\n",
       "  <thead>\n",
       "    <tr style=\"text-align: right;\">\n",
       "      <th></th>\n",
       "      <th>name</th>\n",
       "      <th>treatment_a</th>\n",
       "      <th>treatment_b</th>\n",
       "      <th>a_fill</th>\n",
       "    </tr>\n",
       "  </thead>\n",
       "  <tbody>\n",
       "    <tr>\n",
       "      <th>0</th>\n",
       "      <td>John Smith</td>\n",
       "      <td>NaN</td>\n",
       "      <td>2</td>\n",
       "      <td>9.5</td>\n",
       "    </tr>\n",
       "    <tr>\n",
       "      <th>1</th>\n",
       "      <td>Jane Doe</td>\n",
       "      <td>16.0</td>\n",
       "      <td>11</td>\n",
       "      <td>16.0</td>\n",
       "    </tr>\n",
       "    <tr>\n",
       "      <th>2</th>\n",
       "      <td>Mary Johnson</td>\n",
       "      <td>3.0</td>\n",
       "      <td>1</td>\n",
       "      <td>3.0</td>\n",
       "    </tr>\n",
       "  </tbody>\n",
       "</table>\n",
       "</div>"
      ],
      "text/plain": [
       "           name  treatment_a  treatment_b  a_fill\n",
       "0    John Smith          NaN            2     9.5\n",
       "1      Jane Doe         16.0           11    16.0\n",
       "2  Mary Johnson          3.0            1     3.0"
      ]
     },
     "execution_count": 16,
     "metadata": {},
     "output_type": "execute_result"
    }
   ],
   "source": [
    "df['a_fill'] = df['treatment_a'].fillna(a_mean)\n",
    "df\n",
    "\n",
    "tips.loc[pd.isnull(tips['total_bill'])]\n",
    "\n",
    "#drop missing values using .dropna()"
   ]
  },
  {
   "cell_type": "code",
   "execution_count": null,
   "metadata": {},
   "outputs": [],
   "source": [
    "#Apply function\n",
    "\n",
    "#R\n",
    "df = data.frame('a' = c(1,2,3),\n",
    "                'b' = c(4,5,6))\n",
    "apply(df,2, mean) #column wise\n",
    "apply(df,1, mean) #row wise\n",
    "\n",
    "#Python\n",
    "df = pd.DataFrame({'A': [1,2,3],\n",
    "                   'B': [4,5,6]})\n",
    "df.apply(np.mean, axis=0) #column wise\n",
    "df.apply(np.mean, axis=1) #row wise"
   ]
  },
  {
   "cell_type": "code",
   "execution_count": 21,
   "metadata": {},
   "outputs": [],
   "source": [
    "#Reshaping or tidying data\n",
    "\n",
    "df = pd.DataFrame({'name': ['John Smith', 'Jane Doe', 'Mary Johnson'],\n",
    "                   'treatment_a' : [None, 16.0, 3.0],\n",
    "                   'treatment_b': [2,11,1]})\n",
    "\n",
    "df_melt = pd.melt(df, id_vars='name') #similar to melt in R\n",
    "\n",
    "df_melt_pivot = pd.pivot_table(df_melt,    #similar to dcast in R\n",
    "                               index = 'name',\n",
    "                               columns = 'variable',\n",
    "                               values = 'value')\n",
    "#the above will be indexed on 'name'\n",
    "#reset index can be used for resetting the index\n",
    "\n",
    "df_melt_pivot.reset_index()"
   ]
  },
  {
   "cell_type": "code",
   "execution_count": 23,
   "metadata": {},
   "outputs": [
    {
     "data": {
      "text/plain": [
       "name\n",
       "Jane Doe        13.5\n",
       "John Smith       2.0\n",
       "Mary Johnson     2.0\n",
       "Name: value, dtype: float64"
      ]
     },
     "execution_count": 23,
     "metadata": {},
     "output_type": "execute_result"
    }
   ],
   "source": [
    "#Groupby\n",
    "#groupby: split-apply-combine\n",
    "\n",
    "df_melt.groupby('name')['value'].mean()\n",
    "\n",
    "tips.groupby(['sex', 'time'])['tip'].mean()\n",
    "#agg() and filter() methods can also be used on grouped DataFrames"
   ]
  },
  {
   "cell_type": "code",
   "execution_count": 27,
   "metadata": {},
   "outputs": [],
   "source": [
    "dt = pd.DataFrame({\"country\": ['India', 'India', 'China', 'Australia', 'USA', 'USA'],\n",
    "                   \"state\": ['MP', 'Telangana', 'Xinjang', 'NSW', 'California', 'SF'],\n",
    "                   \"sales\": [200, 300, 250, 150, 200, 250]})"
   ]
  },
  {
   "cell_type": "code",
   "execution_count": 47,
   "metadata": {},
   "outputs": [],
   "source": [
    "dt_new = dt.groupby(['country']).agg({'sales':['min','max','sum'], 'state':'count'}).reset_index()\n",
    "#dt_new = dt.groupby('country')['sales'].agg(['min', 'mean'])"
   ]
  },
  {
   "cell_type": "code",
   "execution_count": 51,
   "metadata": {},
   "outputs": [
    {
     "data": {
      "text/plain": [
       "MultiIndex(levels=[['sales', 'state', 'country'], ['count', 'max', 'min', 'sum', '']],\n",
       "           labels=[[2, 0, 0, 0, 1], [4, 2, 1, 3, 0]])"
      ]
     },
     "execution_count": 51,
     "metadata": {},
     "output_type": "execute_result"
    }
   ],
   "source": [
    "dt_new.columns"
   ]
  },
  {
   "cell_type": "code",
   "execution_count": 3,
   "metadata": {},
   "outputs": [],
   "source": [
    "#loading iris dataset\n",
    "import seaborn as sns\n",
    "iris = sns.load_dataset('iris')"
   ]
  },
  {
   "cell_type": "code",
   "execution_count": 4,
   "metadata": {},
   "outputs": [
    {
     "data": {
      "image/png": "[encoded data removed]",
      "text/plain": [
       "<Figure size 432x288 with 1 Axes>"
      ]
     },
     "metadata": {
      "needs_background": "light"
     },
     "output_type": "display_data"
    }
   ],
   "source": [
    "#Plotting directly using Pandas\n",
    "#Pandas plot method works only on the DataFrame or Series objects\n",
    "#Pass plot the kind argument\n",
    "#kind of plots:\n",
    "#'line' - line plot (default)\n",
    "#'bar' - vertical bar plot\n",
    "#'barh' - horizontal bar plot\n",
    "#'hist' - histogram\n",
    "#'box' - boxplot\n",
    "#'kde'- Kernel density estimation plot\n",
    "#'density' - same as 'kde'\n",
    "#'area' - area plot\n",
    "#'pie' - pie plot\n",
    "#'scatter' - scatter plot\n",
    "#'hexbin' - hexbin plot\n",
    "\n",
    "import matplotlib.pyplot as plt\n",
    "iris['sepal_length'].plot(kind = 'hist')\n",
    "plt.show()"
   ]
  },
  {
   "cell_type": "code",
   "execution_count": 5,
   "metadata": {},
   "outputs": [
    {
     "data": {
      "image/png": "[encoded data removed]",
      "text/plain": [
       "<Figure size 432x288 with 1 Axes>"
      ]
     },
     "metadata": {
      "needs_background": "light"
     },
     "output_type": "display_data"
    }
   ],
   "source": [
    "#Bar plot is used to display counts in categorical data\n",
    "cts = iris['species'].value_counts()\n",
    "cts.plot(kind='bar')\n",
    "plt.show()"
   ]
  },
  {
   "cell_type": "code",
   "execution_count": 9,
   "metadata": {},
   "outputs": [
    {
     "data": {
      "image/png": "[encoded data removed]",
      "text/plain": [
       "<Figure size 432x288 with 1 Axes>"
      ]
     },
     "metadata": {
      "needs_background": "light"
     },
     "output_type": "display_data"
    }
   ],
   "source": [
    "#scatter plot is used to look at correlation between 2 continuous variables\n",
    "iris.plot(kind = 'scatter', x = 'sepal_length', y = 'sepal_width')\n",
    "plt.show()"
   ]
  },
  {
   "cell_type": "code",
   "execution_count": 10,
   "metadata": {},
   "outputs": [
    {
     "data": {
      "image/png": "[encoded data removed]",
      "text/plain": [
       "<Figure size 432x288 with 1 Axes>"
      ]
     },
     "metadata": {
      "needs_background": "light"
     },
     "output_type": "display_data"
    }
   ],
   "source": [
    "#Box plot to check spread or distribution of a continuous variable\n",
    "iris.plot(kind = 'box')\n",
    "plt.show()"
   ]
  },
  {
   "cell_type": "code",
   "execution_count": 11,
   "metadata": {},
   "outputs": [
    {
     "data": {
      "image/png": "[encoded data removed]",
      "text/plain": [
       "<Figure size 432x288 with 1 Axes>"
      ]
     },
     "metadata": {
      "needs_background": "light"
     },
     "output_type": "display_data"
    }
   ],
   "source": [
    "#Box plots can also be used to compare a categorical variable to a continuous variable\n",
    "iris.boxplot(by='species', column='sepal_length')\n",
    "plt.show()"
   ]
  },
  {
   "cell_type": "code",
   "execution_count": 12,
   "metadata": {},
   "outputs": [
    {
     "name": "stderr",
     "output_type": "stream",
     "text": [
      "C:\\Users\\bansal\\Anaconda3\\lib\\site-packages\\scipy\\stats\\stats.py:1713: FutureWarning: Using a non-tuple sequence for multidimensional indexing is deprecated; use `arr[tuple(seq)]` instead of `arr[seq]`. In the future this will be interpreted as an array index, `arr[np.array(seq)]`, which will result either in an error or a different result.\n",
      "  return np.add.reduce(sorted[indexer] * weights, axis=axis) / sumval\n"
     ]
    },
    {
     "data": {
      "image/png": "[encoded data removed]",
      "text/plain": [
       "<Figure size 432x288 with 1 Axes>"
      ]
     },
     "metadata": {
      "needs_background": "light"
     },
     "output_type": "display_data"
    }
   ],
   "source": [
    "#Seaborn (built on matplotlib)\n",
    "#works well with tidy data sets\n",
    "#it plots the below graphs\n",
    "#barplots - barplot\n",
    "#histograms - distplot\n",
    "#boxplot - boxplot\n",
    "#scatter plot - regplot\n",
    "#Seaborn benefits - colored points by data, faced plots by data\n",
    "\n",
    "import seaborn as sns\n",
    "import matplotlib.pyplot as plt\n",
    "sns.distplot(iris['sepal_length'])\n",
    "plt.show()\n"
   ]
  },
  {
   "cell_type": "code",
   "execution_count": 13,
   "metadata": {},
   "outputs": [
    {
     "data": {
      "text/plain": [
       "[]"
      ]
     },
     "execution_count": 13,
     "metadata": {},
     "output_type": "execute_result"
    },
    {
     "data": {
      "image/png": "[encoded data removed]",
      "text/plain": [
       "<Figure size 432x288 with 1 Axes>"
      ]
     },
     "metadata": {
      "needs_background": "light"
     },
     "output_type": "display_data"
    }
   ],
   "source": [
    "#Seaborn count plot\n",
    "sns.countplot('species', data = iris)\n",
    "plt.plot()"
   ]
  },
  {
   "cell_type": "code",
   "execution_count": 14,
   "metadata": {},
   "outputs": [
    {
     "data": {
      "image/png": "[encoded data removed]",
      "text/plain": [
       "<Figure size 432x288 with 1 Axes>"
      ]
     },
     "metadata": {
      "needs_background": "light"
     },
     "output_type": "display_data"
    }
   ],
   "source": [
    "#Seaborn boxplots\n",
    "sns.boxplot(x = 'species', y = 'sepal_length', data = iris)\n",
    "plt.show()"
   ]
  },
  {
   "cell_type": "code",
   "execution_count": 15,
   "metadata": {},
   "outputs": [
    {
     "data": {
      "image/png": "[encoded data removed]",
      "text/plain": [
       "<Figure size 432x288 with 1 Axes>"
      ]
     },
     "metadata": {
      "needs_background": "light"
     },
     "output_type": "display_data"
    }
   ],
   "source": [
    "#Seaborn scatterplots - it draws a regression line by default\n",
    "sns.regplot(x = 'sepal_length', y = 'sepal_width', data = iris)\n",
    "plt.show()"
   ]
  },
  {
   "cell_type": "code",
   "execution_count": 16,
   "metadata": {},
   "outputs": [
    {
     "data": {
      "image/png": "[encoded data removed]",
      "text/plain": [
       "<Figure size 432x288 with 1 Axes>"
      ]
     },
     "metadata": {
      "needs_background": "light"
     },
     "output_type": "display_data"
    }
   ],
   "source": [
    "#Seaborn scatterplots without regression line\n",
    "sns.regplot(x='sepal_length', y='sepal_width', data=iris, fit_reg = False)\n",
    "plt.show()"
   ]
  },
  {
   "cell_type": "code",
   "execution_count": 17,
   "metadata": {},
   "outputs": [
    {
     "data": {
      "image/png": "[encoded data removed]",
      "text/plain": [
       "<Figure size 1080x360 with 3 Axes>"
      ]
     },
     "metadata": {
      "needs_background": "light"
     },
     "output_type": "display_data"
    }
   ],
   "source": [
    "#Seaborn facets\n",
    "sns.lmplot(x='sepal_length', y='sepal_width', data=iris, fit_reg=False, col='species')\n",
    "plt.show()\n",
    "#we can row, col or both row and col arguments and facets will be created accordingly\n",
    "#hue argument can be added to color the points by a variable\n",
    "#sns.lmplot(x='sepal_length', y='sepal_width', data=iris, fit_reg=False, col='species', hue='species')"
   ]
  },
  {
   "cell_type": "code",
   "execution_count": 18,
   "metadata": {},
   "outputs": [
    {
     "data": {
      "image/png": "[encoded data removed]",
      "text/plain": [
       "<Figure size 648x216 with 3 Axes>"
      ]
     },
     "metadata": {
      "needs_background": "light"
     },
     "output_type": "display_data"
    }
   ],
   "source": [
    "#Seaborn FacetGrid\n",
    "g = sns.FacetGrid(iris, col='species')\n",
    "g = g.map(plt.hist, \"sepal_length\")\n",
    "plt.show()\n",
    "#facet = sns.FacetGrid(data, row= , col= , hue= )\n",
    "#facet.map(plt.scatter, x = 'total_bill', y = 'tip')"
   ]
  },
  {
   "cell_type": "code",
   "execution_count": 19,
   "metadata": {},
   "outputs": [
    {
     "data": {
      "image/png": "[encoded data removed]",
      "text/plain": [
       "<Figure size 432x288 with 1 Axes>"
      ]
     },
     "metadata": {
      "needs_background": "light"
     },
     "output_type": "display_data"
    }
   ],
   "source": [
    "#Matplotlib\n",
    "#Histogram\n",
    "import matplotlib.pyplot as plt\n",
    "plt.hist(iris['sepal_length'])\n",
    "plt.show()"
   ]
  },
  {
   "cell_type": "code",
   "execution_count": 20,
   "metadata": {},
   "outputs": [
    {
     "data": {
      "image/png": "[encoded data removed]",
      "text/plain": [
       "<Figure size 432x288 with 1 Axes>"
      ]
     },
     "metadata": {
      "needs_background": "light"
     },
     "output_type": "display_data"
    }
   ],
   "source": [
    "#Scatter plots\n",
    "plt.scatter(iris['sepal_length'], iris['sepal_width']) #(x,y)\n",
    "plt.show()"
   ]
  },
  {
   "cell_type": "code",
   "execution_count": 24,
   "metadata": {},
   "outputs": [
    {
     "data": {
      "image/png": "[encoded data removed]",
      "text/plain": [
       "<Figure size 432x288 with 1 Axes>"
      ]
     },
     "metadata": {
      "needs_background": "light"
     },
     "output_type": "display_data"
    }
   ],
   "source": [
    "#Polishing up the figure\n",
    "fig, ax = plt.subplots()\n",
    "ax.scatter(iris['sepal_length'], iris['sepal_width'])\n",
    "ax.set_title('Sepal Length and Width')\n",
    "ax.set_xlabel('Sepal Length')\n",
    "ax.set_ylabel('Sepal Width')\n",
    "plt.xticks(rotation=45) # rotate the x-axis ticks\n",
    "plt.show()\n",
    "#figure is the entire image\n",
    "#axes is one subplot in that image\n",
    "#axis is different from axes (axis are x-axis and y-axis whereas axes comprises all which is both axis, chart, all labels, title)"
   ]
  },
  {
   "cell_type": "code",
   "execution_count": 25,
   "metadata": {},
   "outputs": [
    {
     "data": {
      "image/png": "[encoded data removed]",
      "text/plain": [
       "<Figure size 432x288 with 2 Axes>"
      ]
     },
     "metadata": {
      "needs_background": "light"
     },
     "output_type": "display_data"
    }
   ],
   "source": [
    "#Multiple Axes\n",
    "fig, (ax1, ax2) = plt.subplots(1,2) #one row and 2 columns #single figure with 2 axes\n",
    "ax1.scatter(iris['sepal_length'], iris['sepal_width'])\n",
    "ax2.hist(iris['sepal_length'])\n",
    "plt.show()\n",
    "#tight layout function can be called so that figures do not overlap"
   ]
  },
  {
   "cell_type": "code",
   "execution_count": 28,
   "metadata": {},
   "outputs": [
    {
     "data": {
      "image/png": "[encoded data removed]",
      "text/plain": [
       "<Figure size 432x288 with 1 Axes>"
      ]
     },
     "metadata": {
      "needs_background": "light"
     },
     "output_type": "display_data"
    }
   ],
   "source": [
    "#Other libraries can also be used inside figure\n",
    "fig, ax = plt.subplots()\n",
    "sns.regplot(x = 'sepal_length', y = 'sepal_width', data = iris, fit_reg = False, ax=ax)\n",
    "plt.show()"
   ]
  },
  {
   "cell_type": "code",
   "execution_count": null,
   "metadata": {},
   "outputs": [],
   "source": [
    "plt.clf()\n",
    "#this will clear the existing plots\n",
    "#use this after plt.show()"
   ]
  },
  {
   "cell_type": "code",
   "execution_count": null,
   "metadata": {},
   "outputs": [],
   "source": [
    "fig, (ax1, ax2) = plt.subplots(1,2)\n",
    "sns.distplot(tips['tip'], ax=ax1)\n",
    "sns.regplot(x='total_bill', y='tip', data=tips, ax=ax2)\n",
    "plt.show()"
   ]
  },
  {
   "cell_type": "code",
   "execution_count": null,
   "metadata": {},
   "outputs": [],
   "source": [
    "#List comprehension for importing data\n",
    "import glob\n",
    "import pandas as pd\n",
    "csv_files = glob.glob('*.csv') #list all file names ending with csv\n",
    "\n",
    "csv_files\n",
    "Output ['data3.csv', 'data2.csv', 'data1.csv']\n",
    "\n",
    "all_dfs = [pd.read_csv(x) for x in csv_files]\n",
    "\n",
    "all_dfs[0] #first dataset\n",
    "\n",
    "print([x.shape for x in dfs]) #printing shape for all datasets\n",
    "\n",
    "#Dictionary comprehension can also be used to import data"
   ]
  },
  {
   "cell_type": "code",
   "execution_count": 31,
   "metadata": {},
   "outputs": [
    {
     "data": {
      "text/html": [
       "<div>\n",
       "<style scoped>\n",
       "    .dataframe tbody tr th:only-of-type {\n",
       "        vertical-align: middle;\n",
       "    }\n",
       "\n",
       "    .dataframe tbody tr th {\n",
       "        vertical-align: top;\n",
       "    }\n",
       "\n",
       "    .dataframe thead th {\n",
       "        text-align: right;\n",
       "    }\n",
       "</style>\n",
       "<table border=\"1\" class=\"dataframe\">\n",
       "  <thead>\n",
       "    <tr style=\"text-align: right;\">\n",
       "      <th></th>\n",
       "      <th>status</th>\n",
       "      <th>treatment_a</th>\n",
       "      <th>treatment_b</th>\n",
       "    </tr>\n",
       "  </thead>\n",
       "  <tbody>\n",
       "    <tr>\n",
       "      <th>0</th>\n",
       "      <td>sick</td>\n",
       "      <td>NaN</td>\n",
       "      <td>2</td>\n",
       "    </tr>\n",
       "    <tr>\n",
       "      <th>1</th>\n",
       "      <td>healthy</td>\n",
       "      <td>16.0</td>\n",
       "      <td>11</td>\n",
       "    </tr>\n",
       "    <tr>\n",
       "      <th>2</th>\n",
       "      <td>sick</td>\n",
       "      <td>3.0</td>\n",
       "      <td>1</td>\n",
       "    </tr>\n",
       "  </tbody>\n",
       "</table>\n",
       "</div>"
      ],
      "text/plain": [
       "    status  treatment_a  treatment_b\n",
       "0     sick          NaN            2\n",
       "1  healthy         16.0           11\n",
       "2     sick          3.0            1"
      ]
     },
     "execution_count": 31,
     "metadata": {},
     "output_type": "execute_result"
    }
   ],
   "source": [
    "#Dummy variables\n",
    "#categorical variables needs to be encoded as dummy variables\n",
    "#Also called one-hot encoding\n",
    "import pandas as pd\n",
    "import numpy as np\n",
    "df = pd.DataFrame({\n",
    "    'status':['sick','healthy','sick'],\n",
    "    'treatment_a':[np.NaN,16,3],\n",
    "    'treatment_b':[2,11,1]\n",
    "})\n",
    "df"
   ]
  },
  {
   "cell_type": "code",
   "execution_count": 32,
   "metadata": {},
   "outputs": [
    {
     "data": {
      "text/html": [
       "<div>\n",
       "<style scoped>\n",
       "    .dataframe tbody tr th:only-of-type {\n",
       "        vertical-align: middle;\n",
       "    }\n",
       "\n",
       "    .dataframe tbody tr th {\n",
       "        vertical-align: top;\n",
       "    }\n",
       "\n",
       "    .dataframe thead th {\n",
       "        text-align: right;\n",
       "    }\n",
       "</style>\n",
       "<table border=\"1\" class=\"dataframe\">\n",
       "  <thead>\n",
       "    <tr style=\"text-align: right;\">\n",
       "      <th></th>\n",
       "      <th>treatment_a</th>\n",
       "      <th>treatment_b</th>\n",
       "      <th>status_healthy</th>\n",
       "      <th>status_sick</th>\n",
       "    </tr>\n",
       "  </thead>\n",
       "  <tbody>\n",
       "    <tr>\n",
       "      <th>0</th>\n",
       "      <td>NaN</td>\n",
       "      <td>2</td>\n",
       "      <td>0</td>\n",
       "      <td>1</td>\n",
       "    </tr>\n",
       "    <tr>\n",
       "      <th>1</th>\n",
       "      <td>16.0</td>\n",
       "      <td>11</td>\n",
       "      <td>1</td>\n",
       "      <td>0</td>\n",
       "    </tr>\n",
       "    <tr>\n",
       "      <th>2</th>\n",
       "      <td>3.0</td>\n",
       "      <td>1</td>\n",
       "      <td>0</td>\n",
       "      <td>1</td>\n",
       "    </tr>\n",
       "  </tbody>\n",
       "</table>\n",
       "</div>"
      ],
      "text/plain": [
       "   treatment_a  treatment_b  status_healthy  status_sick\n",
       "0          NaN            2               0            1\n",
       "1         16.0           11               1            0\n",
       "2          3.0            1               0            1"
      ]
     },
     "execution_count": 32,
     "metadata": {},
     "output_type": "execute_result"
    }
   ],
   "source": [
    "#Get dummies\n",
    "pd.get_dummies(df) #all non-numeric columns will be encoded as dummy variables"
   ]
  },
  {
   "cell_type": "code",
   "execution_count": null,
   "metadata": {},
   "outputs": [],
   "source": [
    "#Applying a function to multiple rows\n",
    "#get season is a user defined function here\n",
    "flights['season'] = flights['time_hour'].apply(get_season)"
   ]
  },
  {
   "cell_type": "code",
   "execution_count": null,
   "metadata": {},
   "outputs": [],
   "source": [
    "# Create a figure\n",
    "fig, (ax1, ax2) = plt.subplots(2,1)\n",
    "\n",
    "# Boxplot and barplot in the axes\n",
    "sns.boxplot(x='origin', y='dep_delay', data=flights, ax=ax1)\n",
    "sns.barplot(x='carrier', y='total_delay', data=tdel_car, ax=ax2)\n",
    "\n",
    "# Label axes\n",
    "ax1.set_title('Originating airport and the departure delay')\n",
    "\n",
    "# Use tight_layout() so the plots don't overlap\n",
    "fig.tight_layout()\n",
    "plt.show()"
   ]
  },
  {
   "cell_type": "code",
   "execution_count": null,
   "metadata": {},
   "outputs": [],
   "source": []
  }
 ],
 "metadata": {
  "kernelspec": {
   "display_name": "Python 3",
   "language": "python",
   "name": "python3"
  },
  "language_info": {
   "codemirror_mode": {
    "name": "ipython",
    "version": 3
   },
   "file_extension": ".py",
   "mimetype": "text/x-python",
   "name": "python",
   "nbconvert_exporter": "python",
   "pygments_lexer": "ipython3",
   "version": "3.7.1"
  }
 },
 "nbformat": 4,
 "nbformat_minor": 2
}
