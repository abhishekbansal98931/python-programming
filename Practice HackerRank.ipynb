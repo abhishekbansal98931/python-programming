{
 "cells": [
  {
   "cell_type": "markdown",
   "metadata": {},
   "source": [
    "## The Minion game"
   ]
  },
  {
   "cell_type": "code",
   "execution_count": 34,
   "metadata": {},
   "outputs": [],
   "source": [
    "#Minion game - optimized solution\n",
    "def minion_game(string):\n",
    "    \n",
    "    string_len = len(string)\n",
    "    if string_len <= 0:\n",
    "        return print(\"Enter valid word\")\n",
    "        \n",
    "    elif string_len > 1000000:\n",
    "        return print(\"Word length greater than 1000000\")\n",
    "        \n",
    "    cw = 0\n",
    "    vw = 0\n",
    "    for i in range(string_len):\n",
    "        if string[i] in ['A','E','I','O','U']:\n",
    "            vw = vw + string_len - i\n",
    "        else:\n",
    "            cw = cw + string_len - i    \n",
    "                             \n",
    "    if cw > vw:\n",
    "        print(f\"Stuart {cw}\")\n",
    "    elif vw > cw:\n",
    "        print(f\"Kevin {vw}\")\n",
    "    else:\n",
    "        print(\"Draw\")"
   ]
  },
  {
   "cell_type": "markdown",
   "metadata": {},
   "source": [
    "## Merge the tools\n",
    "Link: https://www.hackerrank.com/challenges/merge-the-tools/problem"
   ]
  },
  {
   "cell_type": "code",
   "execution_count": 33,
   "metadata": {},
   "outputs": [],
   "source": [
    "def merge_the_tools(string, k):\n",
    "    num_words = int(len(string)/k)\n",
    "    \n",
    "    words=[]\n",
    "    for i in range(num_words):\n",
    "        words.append(string[i*k:i*k+k])\n",
    "    \n",
    "    for j in words:\n",
    "        w=[]\n",
    "        for z in range(k):\n",
    "            if z == 0:\n",
    "                w.append(j[0])\n",
    "            else:\n",
    "                t = 0\n",
    "                for y in range(z):\n",
    "                    if j[z] == j[y]:\n",
    "                        t = t + 1\n",
    "                if t == 0:\n",
    "                    w.append(j[z])\n",
    "        print(''.join(w))"
   ]
  },
  {
   "cell_type": "code",
   "execution_count": null,
   "metadata": {},
   "outputs": [],
   "source": [
    "#Alternate approach\n",
    "S = raw_input()\n",
    "K =int(raw_input())\n",
    "temp = []\n",
    "len_temp = 0\n",
    "for item in S:\n",
    "    len_temp += 1\n",
    "    if item not in temp:\n",
    "        temp.append(item)\n",
    "    if len_temp == K:\n",
    "        print ''.join(temp)\n",
    "        temp = []\n",
    "        len_temp = 0"
   ]
  }
 ],
 "metadata": {
  "kernelspec": {
   "display_name": "Python 3",
   "language": "python",
   "name": "python3"
  },
  "language_info": {
   "codemirror_mode": {
    "name": "ipython",
    "version": 3
   },
   "file_extension": ".py",
   "mimetype": "text/x-python",
   "name": "python",
   "nbconvert_exporter": "python",
   "pygments_lexer": "ipython3",
   "version": "3.7.1"
  }
 },
 "nbformat": 4,
 "nbformat_minor": 2
}
